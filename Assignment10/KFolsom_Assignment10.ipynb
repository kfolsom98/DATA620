{
 "cells": [
  {
   "cell_type": "markdown",
   "metadata": {},
   "source": [
    "### DATA 620\n",
    "### Assignment 10/11: Document Classification\n",
    "Keith Folsom\n",
    "11/12/2017\n",
    "\n",
    "#### Assignment Overview\n",
    "\n",
    "It can be useful to be able to classify new \"test\" documents using already classified \"training\" documents.  A common example is using a corpus of labeled spam and ham (non-spam) e-mails to predict whether or not a new document is spam.  Here is one example of such data:  http://archive.ics.uci.edu/ml/datasets/Spambase\n",
    "\n",
    "For this project, you can either use the above dataset to predict the class of new documents (either withheld from the training dataset or from another source such as your own spam folder).\n",
    "\n",
    "For more adventurous students, you are welcome (encouraged!) to come up a different set of documents (including scraped web pages!?) that have already been classified (e.g. tagged), then analyze these documents to predict how new documents should be classified.\n",
    "\n",
    "#### For this assignment, we'll be creating a spam detection classifier to predict whether email messages are spam or ham using a different set of tagged documents.  The spam and ham corpora can be found here:\n",
    "\n",
    "http://spamassassin.apache.org/old/publiccorpus/\n",
    "\n",
    "The following code assumes that the following files have been unzipped and untarred to a local directory:\n",
    "* 20021010_hard_ham.tar.bz2   (ham emails - more difficulat to categorize)  \n",
    "* 20021010_spam.tar.bz2      (spam emails)  \n",
    "* 20030228_hard_ham.tar.bz2 (ham emails - used as a test for the selected classifier) \n",
    "* 20030228_spam.tar.bz2\n",
    "\n",
    "The local directories should have the following structure within the current working directory, with all email files in the lowest subdirectory:\n",
    "\n",
    "* ./20021010_hard_ham/hard_ham\n",
    "* ./20030228_hard_ham/hard_ham\n",
    "* ./spam  \n",
    "* ./20030228_spam/spam/\n",
    "\n",
    "### The general approach to creating the spam detection classifier will be:\n",
    "\n",
    "1. Load the spam and ham email messages\n",
    "2. Apply preprocessing & extract features\n",
    "4. Train the classifier\n",
    "5. Evaluate the classifier\n",
    "6. Classifer selection and prediction againts ham emails\n",
    "\n"
   ]
  },
  {
   "cell_type": "markdown",
   "metadata": {},
   "source": [
    "### Import Necessary Packages"
   ]
  },
  {
   "cell_type": "code",
   "execution_count": 1,
   "metadata": {
    "collapsed": true
   },
   "outputs": [],
   "source": [
    "import nltk\n",
    "from nltk.corpus.reader.plaintext import PlaintextCorpusReader\n",
    "from nltk import word_tokenize, WordNetLemmatizer\n",
    "from nltk.corpus import wordnet as wn\n",
    "from nltk.stem.wordnet import WordNetLemmatizer\n",
    "from nltk.corpus import stopwords\n",
    "from nltk import NaiveBayesClassifier, classify\n",
    "from nltk import DecisionTreeClassifier, classify\n",
    "from nltk import MaxentClassifier, classify\n",
    "from collections import Counter\n",
    "\n",
    "import numpy  \n",
    "import pandas as pd\n",
    "import random\n",
    "import string\n",
    "import itertools\n",
    "\n",
    "%matplotlib inline\n",
    "import matplotlib.pyplot as plt\n",
    "import seaborn as sns\n",
    "\n",
    "from sklearn.metrics import classification_report, f1_score, accuracy_score, confusion_matrix\n",
    "from nltk.classify.scikitlearn import SklearnClassifier\n",
    "from sklearn.naive_bayes import MultinomialNB,BernoulliNB\n",
    "from sklearn.linear_model import LogisticRegression,SGDClassifier\n",
    "from sklearn.svm import SVC, LinearSVC, NuSVC\n"
   ]
  },
  {
   "cell_type": "markdown",
   "metadata": {},
   "source": [
    "### Step 1 - Load Ham and Spam Email Messages as Corpora\n",
    "\n",
    "\n",
    "\n"
   ]
  },
  {
   "cell_type": "code",
   "execution_count": 2,
   "metadata": {
    "collapsed": true
   },
   "outputs": [],
   "source": [
    "# create a function to process the files in a given directory and\n",
    "# return three outputs used throughout the analysis\n",
    "    # 1. nltk.corpus.reader.plaintext.PlaintextCorpusReader\n",
    "    # 2. nltk.text.Text\n",
    "    # 3. list of emails tagged as either ham or spam\n",
    "\n",
    "def init_corpus(dir, tag):\n",
    "    \n",
    "    # need to use latin-1 encoding to avoid issues with special characters\n",
    "    # use PlaintextCorpusReader to read all the files in the ham corpus directory set above\n",
    "    corpus0 = PlaintextCorpusReader(dir, '.*', encoding='latin-1') \n",
    "    \n",
    "    # extract the sentences from the orpus\n",
    "    # note that the sentences are tokenized as a result\n",
    "    corpus  = nltk.Text(corpus0.sents())\n",
    "    \n",
    "    # tag as spam for later usage\n",
    "    emails = [(email, tag) for email in corpus]\n",
    "    \n",
    "    return corpus0, corpus, emails"
   ]
  },
  {
   "cell_type": "code",
   "execution_count": 3,
   "metadata": {
    "collapsed": true
   },
   "outputs": [],
   "source": [
    "## Ham Email Messages \n",
    "## Initialize using a set of hard ham email messages \n",
    "## These have been deemed more difficult to classify\n",
    "## ===================================================\n",
    "hamcorpusdir = './20021010_hard_ham/hard_ham'   # local directory structure of the ham emails\n",
    "\n",
    "hamcorpus0, hamcorpus, ham_emails = init_corpus(hamcorpusdir, 'ham')"
   ]
  },
  {
   "cell_type": "code",
   "execution_count": 4,
   "metadata": {
    "collapsed": true
   },
   "outputs": [],
   "source": [
    "## Spam Email Messages \n",
    "## Initialize using a set of spam email messages \n",
    "## ===================================================\n",
    "spamcorpusdir = './spam' # Local directory of the spam email messages.\n",
    "\n",
    "spamcorpus0, spamcorpus, spam_emails = init_corpus(spamcorpusdir, 'spam')"
   ]
  },
  {
   "cell_type": "markdown",
   "metadata": {},
   "source": [
    "#### Generate some topline statistics about the corpora."
   ]
  },
  {
   "cell_type": "code",
   "execution_count": 5,
   "metadata": {
    "collapsed": true
   },
   "outputs": [],
   "source": [
    "def corpus_stats(corpus, name):\n",
    "\n",
    "    total_files = len(corpus.fileids())\n",
    "    total_chars = len(corpus.raw())\n",
    "    total_words = len(corpus.words())\n",
    "    total_sentences = len(corpus.sents())\n",
    "\n",
    "    print(\"{} Corpus: \".format(name))\n",
    "    print(\"===========================\")\n",
    "    print(\"Total Files = {}\".format(total_files))    \n",
    "    print(\"Total Words = {}\".format(total_words))\n",
    "    print(\"Avg Words Per File = {}\".format(total_words/total_files))\n",
    "    print(\"Total Sentences = {}\".format(total_sentences))\n",
    "    print(\"Avg Sentences Per File = {}\".format(total_sentences/total_files))"
   ]
  },
  {
   "cell_type": "code",
   "execution_count": 6,
   "metadata": {
    "collapsed": false
   },
   "outputs": [
    {
     "name": "stdout",
     "output_type": "stream",
     "text": [
      "Spam Corpus Corpus: \n",
      "===========================\n",
      "Total Files = 501\n",
      "Total Words = 769207\n",
      "Avg Words Per File = 1535\n",
      "Total Sentences = 12107\n",
      "Avg Sentences Per File = 24\n"
     ]
    }
   ],
   "source": [
    "corpus_stats(spamcorpus0, \"Spam Corpus\")"
   ]
  },
  {
   "cell_type": "code",
   "execution_count": 7,
   "metadata": {
    "collapsed": false
   },
   "outputs": [
    {
     "name": "stdout",
     "output_type": "stream",
     "text": [
      "Ham Corpus Corpus: \n",
      "===========================\n",
      "Total Files = 250\n",
      "Total Words = 1513630\n",
      "Avg Words Per File = 6054\n",
      "Total Sentences = 24035\n",
      "Avg Sentences Per File = 96\n"
     ]
    }
   ],
   "source": [
    "corpus_stats(hamcorpus0, \"Ham Corpus\")"
   ]
  },
  {
   "cell_type": "markdown",
   "metadata": {},
   "source": [
    "#### Combine the spam and ham emails together and shuffle them randomly\n",
    "Set a random seed value to make the results reproducible"
   ]
  },
  {
   "cell_type": "code",
   "execution_count": 8,
   "metadata": {
    "collapsed": true
   },
   "outputs": [],
   "source": [
    "# combine\n",
    "random_seed=1534678\n",
    "random.seed(random_seed)\n",
    "\n",
    "# combine the spam and ham emails together\n",
    "all_emails = spam_emails + ham_emails"
   ]
  },
  {
   "cell_type": "code",
   "execution_count": 9,
   "metadata": {
    "collapsed": true
   },
   "outputs": [],
   "source": [
    "# shuffle the combined emails\n",
    "random.shuffle(all_emails)"
   ]
  },
  {
   "cell_type": "markdown",
   "metadata": {},
   "source": [
    "### Step 2 - Preprocessing & Feature Extraction\n",
    "Preprocessing the data will focus on trying to normalize the data so that variations of same word are collapsed into a single version.  We'll use a few prepocessing approaches such as lemmatization, stemming, and removing stopwords and punctuation."
   ]
  },
  {
   "cell_type": "code",
   "execution_count": 10,
   "metadata": {
    "collapsed": true
   },
   "outputs": [],
   "source": [
    "#stoplist = stopwords.words(\"english\")\n",
    "\n",
    "# Using a lemmatizer and convert to lowercase\n",
    "def preprocess1(sentence):\n",
    "    wnl = WordNetLemmatizer()\n",
    "    return [wnl.lemmatize(word.lower()) for word in sentence]\n",
    "\n",
    "# Using stemming\n",
    "def preprocess2(sentence):   \n",
    "    porter = nltk.PorterStemmer()  \n",
    "    return [porter.stem(word.lower()) for word in sentence]\n",
    "\n",
    "def preprocess3(sentence):\n",
    "    \"\"\"\n",
    "    Takes in a string of text, then performs the following:\n",
    "    1. Remove all punctuation\n",
    "    2. Remove all stopwords\n",
    "    3. Returns a list of the cleaned text\n",
    "    \"\"\"\n",
    "    # Check characters to see if they are in punctuation\n",
    "    nopunc = [char for char in sentence if char not in string.punctuation]\n",
    "\n",
    "    # Join the characters again to form the string.\n",
    "    nopunc = ''.join(nopunc)\n",
    "    \n",
    "    # Now just remove any stopwords\n",
    "    return [word for word in nopunc.split() if word.lower() not in stopwords.words('english')]"
   ]
  },
  {
   "cell_type": "markdown",
   "metadata": {},
   "source": [
    "### Features Extraction\n",
    "\n",
    "We'll look at three methods to create featuresets for the classification modeling training step.  The evaluation phase will determine which of the three yields the best results.\n"
   ]
  },
  {
   "cell_type": "code",
   "execution_count": 14,
   "metadata": {
    "collapsed": true
   },
   "outputs": [],
   "source": [
    "stoplist = stopwords.words(\"english\")\n",
    "## get_features function to extract features\n",
    "def get_features(text, preprocessor):\n",
    "    \n",
    "    \"\"\"\n",
    "    Accepts in a string of text and the preprocessing function to be applied\n",
    "    \"\"\"\n",
    "    return {word: True for word in preprocessor(text) if not word in stoplist}"
   ]
  },
  {
   "cell_type": "code",
   "execution_count": 15,
   "metadata": {
    "collapsed": false
   },
   "outputs": [],
   "source": [
    "# extract features using the first preprocessor which is using lemmatization\n",
    "all_features1 = [(get_features(email, preprocess1), label) for (email, label) in all_emails]"
   ]
  },
  {
   "cell_type": "code",
   "execution_count": 16,
   "metadata": {
    "collapsed": true
   },
   "outputs": [],
   "source": [
    "# extract features using the second preprocessor which is using stemming\n",
    "all_features2 = [(get_features(email, preprocess2), label) for (email, label) in all_emails]"
   ]
  },
  {
   "cell_type": "code",
   "execution_count": 17,
   "metadata": {
    "collapsed": true
   },
   "outputs": [],
   "source": [
    "# extract features using the third preprocessor which essentially returns cleaned text\n",
    "all_features3 = [(get_features(email, preprocess3), label) for (email, label) in all_emails]"
   ]
  },
  {
   "cell_type": "markdown",
   "metadata": {},
   "source": [
    "### Step 3 - Train the Classifiers\n",
    "In this step, we're going to evaluate three varieties of classifiers, each using a different preprocessing step to extract different featuresets.\n",
    "\n",
    "1. NaiveBayes\n",
    "2. Logistic Regression\n",
    "3. Linear SVC  "
   ]
  },
  {
   "cell_type": "code",
   "execution_count": 18,
   "metadata": {
    "collapsed": true
   },
   "outputs": [],
   "source": [
    "## NaiveBayes \n",
    "def train_NB(features, samples_proportion):\n",
    "    train_size = int(len(features) * samples_proportion)\n",
    "    train_set, test_set = features[:train_size], features[train_size:]\n",
    "    \n",
    "    print ('Training set size = ' + str(len(train_set)) + ' emails')\n",
    "    print ('Test set size = ' + str(len(test_set)) + ' emails')\n",
    "    \n",
    "    classifier = NaiveBayesClassifier.train(train_set)\n",
    "    return train_set, test_set, classifier\n",
    "\n",
    "## Logistic Regression\n",
    "def train_LR(features, samples_proportion):\n",
    "    train_size = int(len(features) * samples_proportion)\n",
    "    train_set, test_set = features[:train_size], features[train_size:]\n",
    "    print ('Training set size = ' + str(len(train_set)) + ' emails')\n",
    "    print ('Test set size = ' + str(len(test_set)) + ' emails')\n",
    "    \n",
    "    LogisticRegression_classifier = SklearnClassifier(LogisticRegression())   \n",
    "    classifier = LogisticRegression_classifier.train(train_set)\n",
    "    \n",
    "    return train_set, test_set, classifier\n",
    "\n",
    "## LinearSVC\n",
    "def train_LSVC(features, samples_proportion):\n",
    "    train_size = int(len(features) * samples_proportion)\n",
    "    train_set, test_set = features[:train_size], features[train_size:]\n",
    "    print ('Training set size = ' + str(len(train_set)) + ' emails')\n",
    "    print ('Test set size = ' + str(len(test_set)) + ' emails')\n",
    "    \n",
    "    LinearSVC_classifier = SklearnClassifier(LinearSVC())\n",
    "    classifier = LinearSVC_classifier.train(train_set)\n",
    "    \n",
    "    return train_set, test_set, classifier\n"
   ]
  },
  {
   "cell_type": "markdown",
   "metadata": {},
   "source": [
    "### Train the NaiveBayes Classifiers"
   ]
  },
  {
   "cell_type": "code",
   "execution_count": 19,
   "metadata": {
    "collapsed": false
   },
   "outputs": [
    {
     "name": "stdout",
     "output_type": "stream",
     "text": [
      "Training set size = 28913 emails\n",
      "Test set size = 7229 emails\n"
     ]
    }
   ],
   "source": [
    "train_set1_NB, test_set1_NB, classifier1_NB = train_NB(all_features1, 0.8)"
   ]
  },
  {
   "cell_type": "code",
   "execution_count": 20,
   "metadata": {
    "collapsed": false
   },
   "outputs": [
    {
     "name": "stdout",
     "output_type": "stream",
     "text": [
      "Training set size = 28913 emails\n",
      "Test set size = 7229 emails\n"
     ]
    }
   ],
   "source": [
    "train_set2_NB, test_set2_NB, classifier2_NB = train_NB(all_features2, 0.8)"
   ]
  },
  {
   "cell_type": "code",
   "execution_count": 21,
   "metadata": {
    "collapsed": false
   },
   "outputs": [
    {
     "name": "stdout",
     "output_type": "stream",
     "text": [
      "Training set size = 28913 emails\n",
      "Test set size = 7229 emails\n"
     ]
    }
   ],
   "source": [
    "train_set3_NB, test_set3_NB, classifier3_NB = train_NB(all_features3, 0.8)"
   ]
  },
  {
   "cell_type": "markdown",
   "metadata": {},
   "source": [
    "### Train the Logistic Regression Classifiers"
   ]
  },
  {
   "cell_type": "code",
   "execution_count": 22,
   "metadata": {
    "collapsed": false
   },
   "outputs": [
    {
     "name": "stdout",
     "output_type": "stream",
     "text": [
      "Training set size = 28913 emails\n",
      "Test set size = 7229 emails\n"
     ]
    }
   ],
   "source": [
    "train_set1_LR, test_set1_LR, classifier1_LR = train_LR(all_features1, 0.8)"
   ]
  },
  {
   "cell_type": "code",
   "execution_count": 23,
   "metadata": {
    "collapsed": false
   },
   "outputs": [
    {
     "name": "stdout",
     "output_type": "stream",
     "text": [
      "Training set size = 28913 emails\n",
      "Test set size = 7229 emails\n"
     ]
    }
   ],
   "source": [
    "train_set2_LR, test_set2_LR, classifier2_LR = train_LR(all_features2, 0.8)"
   ]
  },
  {
   "cell_type": "code",
   "execution_count": 24,
   "metadata": {
    "collapsed": false
   },
   "outputs": [
    {
     "name": "stdout",
     "output_type": "stream",
     "text": [
      "Training set size = 28913 emails\n",
      "Test set size = 7229 emails\n"
     ]
    }
   ],
   "source": [
    "train_set3_LR, test_set3_LR, classifier3_LR = train_LR(all_features3, 0.8)"
   ]
  },
  {
   "cell_type": "markdown",
   "metadata": {},
   "source": [
    "### Train the Linear SVC Classifiers"
   ]
  },
  {
   "cell_type": "code",
   "execution_count": 25,
   "metadata": {
    "collapsed": false
   },
   "outputs": [
    {
     "name": "stdout",
     "output_type": "stream",
     "text": [
      "Training set size = 28913 emails\n",
      "Test set size = 7229 emails\n"
     ]
    }
   ],
   "source": [
    "train_set1_LSVC, test_set1_LSVC, classifier1_LSVC = train_LSVC(all_features1, 0.8)"
   ]
  },
  {
   "cell_type": "code",
   "execution_count": 26,
   "metadata": {
    "collapsed": false
   },
   "outputs": [
    {
     "name": "stdout",
     "output_type": "stream",
     "text": [
      "Training set size = 28913 emails\n",
      "Test set size = 7229 emails\n"
     ]
    }
   ],
   "source": [
    "train_set2_LSVC, test_set2_LSVC, classifier2_LSVC = train_LSVC(all_features2, 0.8)"
   ]
  },
  {
   "cell_type": "code",
   "execution_count": 27,
   "metadata": {
    "collapsed": false
   },
   "outputs": [
    {
     "name": "stdout",
     "output_type": "stream",
     "text": [
      "Training set size = 28913 emails\n",
      "Test set size = 7229 emails\n"
     ]
    }
   ],
   "source": [
    "train_set3_LSVC, test_set3_LSVC, classifier3_LSVC = train_LSVC(all_features3, 0.8)"
   ]
  },
  {
   "cell_type": "markdown",
   "metadata": {},
   "source": [
    "### Step 4 - Evaluate the Classifiers"
   ]
  },
  {
   "cell_type": "code",
   "execution_count": 28,
   "metadata": {
    "collapsed": true
   },
   "outputs": [],
   "source": [
    "# Code here for the confusion is heavily borrowed from our 620 group project\n",
    "def plot_confusion_matrix(cm, classes,\n",
    "                          title='Confusion Matrix',\n",
    "                          cmap=plt.cm.Blues):\n",
    "    \"\"\"\n",
    "    Plots the confusion matrix. \n",
    "    \"\"\"\n",
    "    plt.imshow(cm, interpolation='nearest', cmap=cmap)\n",
    "    plt.title(title)\n",
    "    tick_marks = numpy.arange(len(classes))\n",
    "    plt.xticks(tick_marks, classes, rotation=90)\n",
    "    plt.yticks(tick_marks, classes)\n",
    "\n",
    "    fmt = '.2f' if False else 'd'\n",
    "    thresh = cm.max() / 2.\n",
    "    for i, j in itertools.product(range(cm.shape[0]), range(cm.shape[1])):\n",
    "        plt.text(j, i, format(cm[i, j], fmt),\n",
    "                 horizontalalignment=\"center\",\n",
    "                 color=\"white\" if cm[i, j] > thresh else \"black\")\n",
    "\n",
    "    plt.tight_layout()\n",
    "    plt.ylabel('True Label')\n",
    "    plt.xlabel('Predicted Label')\n",
    "\n",
    "    return"
   ]
  },
  {
   "cell_type": "code",
   "execution_count": 29,
   "metadata": {
    "collapsed": true
   },
   "outputs": [],
   "source": [
    "def evaluate_classifier(train_set, test_set, classifier, preprocessor):\n",
    "    print(\"Classifier Performance Evaluation\")\n",
    "    print(\"===================================\\n\")\n",
    "    \n",
    "    print('Accuracy on the training set = ' + str(classify.accuracy(classifier, train_set)))\n",
    "    print('Accuracy of the test set = ' + str(classify.accuracy(classifier, test_set)))\n",
    "    \n",
    "    ## TRAIN ##\n",
    "    # create predicted classes (train)\n",
    "    train_set_predictions = [classifier.classify(get_features(email, preprocessor)) for (email, label) in train_set]\n",
    "    \n",
    "    # extract actual classes (gold)\n",
    "    train_set_gold = [tag for (n, tag) in train_set]\n",
    "    \n",
    "    # create confusion matrix\n",
    "    train_confusion_matrix=confusion_matrix(train_set_gold, train_set_predictions)\n",
    "    \n",
    "    # create table with precision, recall, f1-score, and support\n",
    "    train_report=classification_report(train_set_gold, train_set_predictions, digits=4)\n",
    "    \n",
    "    # display performance report (train)\n",
    "    print('\\nModel Performance Metrics (Train):')\n",
    "    print(train_report)\n",
    "    \n",
    "    #----------------------------------------------------------------------------------\n",
    "    ## TEST ##\n",
    "    # create predicted classes (test)\n",
    "    test_set_predictions = [classifier.classify(get_features(email, preprocessor)) for (email, label) in test_set]\n",
    "    \n",
    "    # extract actual classes (gold)\n",
    "    test_set_gold = [tag for (n, tag) in test_set]\n",
    "    \n",
    "    # create confusion matrix\n",
    "    test_confusion_matrix=confusion_matrix(test_set_gold, test_set_predictions)\n",
    "           \n",
    "    # create table with precision, recall, f1-score, and support\n",
    "    test_report=classification_report(test_set_gold, test_set_predictions, digits=4)\n",
    "    \n",
    "    # display performance report (train)\n",
    "    print('\\nModel Performance Metrics (Test):')\n",
    "    print(test_report)\n",
    "    \n",
    "    ## Confusion Matrices - Test vs. Train side-by-side\n",
    "    # size figure\n",
    "    plt.figure(figsize=(10,6))\n",
    "    # add first subplot\n",
    "    plt.subplot(2, 2, 1)\n",
    "    # plot confusion matrix\n",
    "    plot_confusion_matrix(train_confusion_matrix, classes=['spam','ham'], title=\"Confusion Matrix - Training Set\")\n",
    "    # add second subplot\n",
    "    plt.subplot(2, 2, 2)\n",
    "    # plot confusion matrix (test)\n",
    "    plot_confusion_matrix(test_confusion_matrix, classes=['spam','ham'], title=\"Confusion Matrix - Test Set\")\n",
    "    \n",
    "    return "
   ]
  },
  {
   "cell_type": "markdown",
   "metadata": {},
   "source": [
    "### NaiveBayes Evaluation"
   ]
  },
  {
   "cell_type": "code",
   "execution_count": 30,
   "metadata": {
    "collapsed": false
   },
   "outputs": [
    {
     "name": "stdout",
     "output_type": "stream",
     "text": [
      "Classifier Performance Evaluation\n",
      "===================================\n",
      "\n",
      "Accuracy on the training set = 0.904921661536\n",
      "Accuracy of the test set = 0.872181491216\n",
      "\n",
      "Model Performance Metrics (Train):\n",
      "             precision    recall  f1-score   support\n",
      "\n",
      "        ham     0.9346    0.9218    0.9282     19263\n",
      "       spam     0.8481    0.8713    0.8595      9650\n",
      "\n",
      "avg / total     0.9057    0.9050    0.9053     28913\n",
      "\n",
      "\n",
      "Model Performance Metrics (Test):\n",
      "             precision    recall  f1-score   support\n",
      "\n",
      "        ham     0.9104    0.8946    0.9024      4772\n",
      "       spam     0.8020    0.8291    0.8153      2457\n",
      "\n",
      "avg / total     0.8736    0.8723    0.8728      7229\n",
      "\n"
     ]
    },
    {
     "data": {
      "image/png": "[encoded data removed]",
      "text/plain": [
       "<matplotlib.figure.Figure at 0x3eebb38>"
      ]
     },
     "metadata": {},
     "output_type": "display_data"
    }
   ],
   "source": [
    "# preprocessing of features based on lemmatization\n",
    "evaluate_classifier(train_set1_NB, test_set1_NB, classifier1_NB, preprocess1)"
   ]
  },
  {
   "cell_type": "code",
   "execution_count": 31,
   "metadata": {
    "collapsed": false
   },
   "outputs": [
    {
     "name": "stdout",
     "output_type": "stream",
     "text": [
      "Classifier Performance Evaluation\n",
      "===================================\n",
      "\n",
      "Accuracy on the training set = 0.893196831875\n",
      "Accuracy of the test set = 0.865818232121\n",
      "\n",
      "Model Performance Metrics (Train):\n",
      "             precision    recall  f1-score   support\n",
      "\n",
      "        ham     0.9276    0.9070    0.9172     19263\n",
      "       spam     0.8222    0.8587    0.8400      9650\n",
      "\n",
      "avg / total     0.8924    0.8908    0.8914     28913\n",
      "\n",
      "\n",
      "Model Performance Metrics (Test):\n",
      "             precision    recall  f1-score   support\n",
      "\n",
      "        ham     0.9060    0.8843    0.8950      4772\n",
      "       spam     0.7853    0.8217    0.8031      2457\n",
      "\n",
      "avg / total     0.8650    0.8631    0.8638      7229\n",
      "\n"
     ]
    },
    {
     "data": {
      "image/png": "[encoded data removed]",
      "text/plain": [
       "<matplotlib.figure.Figure at 0x2ac19320>"
      ]
     },
     "metadata": {},
     "output_type": "display_data"
    }
   ],
   "source": [
    "# preprocessing of features based on stemming\n",
    "evaluate_classifier(train_set2_NB, test_set2_NB, classifier2_NB, preprocess2)"
   ]
  },
  {
   "cell_type": "code",
   "execution_count": 32,
   "metadata": {
    "collapsed": false
   },
   "outputs": [
    {
     "name": "stdout",
     "output_type": "stream",
     "text": [
      "Classifier Performance Evaluation\n",
      "===================================\n",
      "\n",
      "Accuracy on the training set = 0.989174419811\n",
      "Accuracy of the test set = 0.823488725965\n",
      "\n",
      "Model Performance Metrics (Train):\n",
      "             precision    recall  f1-score   support\n",
      "\n",
      "        ham     0.9857    0.9982    0.9919     19263\n",
      "       spam     0.9964    0.9711    0.9836      9650\n",
      "\n",
      "avg / total     0.9893    0.9892    0.9891     28913\n",
      "\n",
      "\n",
      "Model Performance Metrics (Test):\n",
      "             precision    recall  f1-score   support\n",
      "\n",
      "        ham     0.7905    0.9969    0.8817      4772\n",
      "       spam     0.9876    0.4868    0.6521      2457\n",
      "\n",
      "avg / total     0.8575    0.8235    0.8037      7229\n",
      "\n"
     ]
    },
    {
     "data": {
      "image/png": "[encoded data removed]",
      "text/plain": [
       "<matplotlib.figure.Figure at 0x2c1e5898>"
      ]
     },
     "metadata": {},
     "output_type": "display_data"
    }
   ],
   "source": [
    "# preprocessing of features based on cleaned Text -- removal of punctuation, stopwords.  \n",
    "evaluate_classifier(train_set3_NB, test_set3_NB, classifier3_NB, preprocess3)"
   ]
  },
  {
   "cell_type": "markdown",
   "metadata": {},
   "source": [
    "__Note__ The featureset based on the the third preprocessing option appear to be overfitting the training dataset.  The peformance metrics against the test dataset show some marked degradation.  Consequently, we'll discontinue using this in subsequent classifiers."
   ]
  },
  {
   "cell_type": "markdown",
   "metadata": {},
   "source": [
    "### Logistic Regression Evaluation"
   ]
  },
  {
   "cell_type": "code",
   "execution_count": 33,
   "metadata": {
    "collapsed": false
   },
   "outputs": [
    {
     "name": "stdout",
     "output_type": "stream",
     "text": [
      "Classifier Performance Evaluation\n",
      "===================================\n",
      "\n",
      "Accuracy on the training set = 0.95925708159\n",
      "Accuracy of the test set = 0.913819338774\n",
      "\n",
      "Model Performance Metrics (Train):\n",
      "             precision    recall  f1-score   support\n",
      "\n",
      "        ham     0.9600    0.9796    0.9697     19263\n",
      "       spam     0.9575    0.9184    0.9376      9650\n",
      "\n",
      "avg / total     0.9592    0.9592    0.9590     28913\n",
      "\n",
      "\n",
      "Model Performance Metrics (Test):\n",
      "             precision    recall  f1-score   support\n",
      "\n",
      "        ham     0.9249    0.9466    0.9356      4772\n",
      "       spam     0.8913    0.8506    0.8705      2457\n",
      "\n",
      "avg / total     0.9134    0.9140    0.9135      7229\n",
      "\n"
     ]
    },
    {
     "data": {
      "image/png": "[encoded data removed]",
      "text/plain": [
       "<matplotlib.figure.Figure at 0x34f336a0>"
      ]
     },
     "metadata": {},
     "output_type": "display_data"
    }
   ],
   "source": [
    "# preprocessing of features based on lemmatization\n",
    "evaluate_classifier(train_set1_LR, test_set1_LR, classifier1_LR, preprocess1)"
   ]
  },
  {
   "cell_type": "code",
   "execution_count": 34,
   "metadata": {
    "collapsed": false
   },
   "outputs": [
    {
     "name": "stdout",
     "output_type": "stream",
     "text": [
      "Classifier Performance Evaluation\n",
      "===================================\n",
      "\n",
      "Accuracy on the training set = 0.953135267873\n",
      "Accuracy of the test set = 0.911744362982\n",
      "\n",
      "Model Performance Metrics (Train):\n",
      "             precision    recall  f1-score   support\n",
      "\n",
      "        ham     0.9518    0.9740    0.9628     19263\n",
      "       spam     0.9455    0.9016    0.9230      9650\n",
      "\n",
      "avg / total     0.9497    0.9498    0.9495     28913\n",
      "\n",
      "\n",
      "Model Performance Metrics (Test):\n",
      "             precision    recall  f1-score   support\n",
      "\n",
      "        ham     0.9214    0.9436    0.9324      4772\n",
      "       spam     0.8851    0.8437    0.8639      2457\n",
      "\n",
      "avg / total     0.9091    0.9097    0.9091      7229\n",
      "\n"
     ]
    },
    {
     "data": {
      "image/png": "[encoded data removed]",
      "text/plain": [
       "<matplotlib.figure.Figure at 0x34e974e0>"
      ]
     },
     "metadata": {},
     "output_type": "display_data"
    }
   ],
   "source": [
    "# preprocessing of features based on stemming\n",
    "evaluate_classifier(train_set2_LR, test_set2_LR, classifier2_LR, preprocess2)"
   ]
  },
  {
   "cell_type": "markdown",
   "metadata": {},
   "source": [
    "### Linear SVC Evaluation"
   ]
  },
  {
   "cell_type": "code",
   "execution_count": 35,
   "metadata": {
    "collapsed": false
   },
   "outputs": [
    {
     "name": "stdout",
     "output_type": "stream",
     "text": [
      "Classifier Performance Evaluation\n",
      "===================================\n",
      "\n",
      "Accuracy on the training set = 0.97859094525\n",
      "Accuracy of the test set = 0.917139300041\n",
      "\n",
      "Model Performance Metrics (Train):\n",
      "             precision    recall  f1-score   support\n",
      "\n",
      "        ham     0.9799    0.9874    0.9836     19263\n",
      "       spam     0.9745    0.9595    0.9669      9650\n",
      "\n",
      "avg / total     0.9781    0.9781    0.9781     28913\n",
      "\n",
      "\n",
      "Model Performance Metrics (Test):\n",
      "             precision    recall  f1-score   support\n",
      "\n",
      "        ham     0.9377    0.9361    0.9369      4772\n",
      "       spam     0.8763    0.8791    0.8777      2457\n",
      "\n",
      "avg / total     0.9168    0.9167    0.9168      7229\n",
      "\n"
     ]
    },
    {
     "data": {
      "image/png": "[encoded data removed]",
      "text/plain": [
       "<matplotlib.figure.Figure at 0x34f334e0>"
      ]
     },
     "metadata": {},
     "output_type": "display_data"
    }
   ],
   "source": [
    "# preprocessing of features based on lemmatization\n",
    "evaluate_classifier(train_set1_LSVC, test_set1_LSVC, classifier1_LSVC, preprocess1)"
   ]
  },
  {
   "cell_type": "code",
   "execution_count": 36,
   "metadata": {
    "collapsed": false
   },
   "outputs": [
    {
     "name": "stdout",
     "output_type": "stream",
     "text": [
      "Classifier Performance Evaluation\n",
      "===================================\n",
      "\n",
      "Accuracy on the training set = 0.972987929305\n",
      "Accuracy of the test set = 0.913542675335\n",
      "\n",
      "Model Performance Metrics (Train):\n",
      "             precision    recall  f1-score   support\n",
      "\n",
      "        ham     0.9702    0.9842    0.9771     19263\n",
      "       spam     0.9675    0.9397    0.9534      9650\n",
      "\n",
      "avg / total     0.9693    0.9693    0.9692     28913\n",
      "\n",
      "\n",
      "Model Performance Metrics (Test):\n",
      "             precision    recall  f1-score   support\n",
      "\n",
      "        ham     0.9313    0.9348    0.9331      4772\n",
      "       spam     0.8725    0.8661    0.8693      2457\n",
      "\n",
      "avg / total     0.9113    0.9115    0.9114      7229\n",
      "\n"
     ]
    },
    {
     "data": {
      "image/png": "[encoded data removed]",
      "text/plain": [
       "<matplotlib.figure.Figure at 0x3641c4a8>"
      ]
     },
     "metadata": {},
     "output_type": "display_data"
    }
   ],
   "source": [
    "# preprocessing of features based on stemming\n",
    "evaluate_classifier(train_set2_LSVC, test_set2_LSVC, classifier2_LSVC, preprocess2)"
   ]
  },
  {
   "cell_type": "markdown",
   "metadata": {},
   "source": [
    "## Conclusion\n",
    "\n",
    "Based on the three classifier evaluations above, the LinearSVC classifer using lemmatization preprocessing to select the featureset has the edge in peformance over the other classifiers.  Comparisons were made using the f1-score of the test dataset as compared to the other classification results.  \n",
    "\n",
    "Let's see how the classifier does specifically on email messages which were categorized as ham, but were considered more difficult to categorize.  This should test the classifier to see if it incorrectly tags ham as spam email."
   ]
  },
  {
   "cell_type": "code",
   "execution_count": 37,
   "metadata": {
    "collapsed": false
   },
   "outputs": [],
   "source": [
    "## Ham Email Messages \n",
    "## ========================\n",
    "\n",
    "hardhamcorpusdir = './20030228_hard_ham/hard_ham/'   # local directory structure of the ham emails\n",
    "hardhamcorpus0, hardhamcorpus, hard_ham_emails = init_corpus(hardhamcorpusdir, 'ham')"
   ]
  },
  {
   "cell_type": "code",
   "execution_count": 38,
   "metadata": {
    "collapsed": true
   },
   "outputs": [],
   "source": [
    "predictions = [classifier2_LSVC.classify(get_features(email, preprocess1)) for (email, label) in hard_ham_emails]"
   ]
  },
  {
   "cell_type": "code",
   "execution_count": 39,
   "metadata": {
    "collapsed": false
   },
   "outputs": [
    {
     "data": {
      "text/plain": [
       "(Counter({'ham': 21375, 'spam': 1660}), 23035)"
      ]
     },
     "execution_count": 39,
     "metadata": {},
     "output_type": "execute_result"
    }
   ],
   "source": [
    "Counter(predictions), len(predictions)"
   ]
  },
  {
   "cell_type": "markdown",
   "metadata": {},
   "source": [
    "__Of the ham messages (and in this case a new set of more difficult ham was used), the classifer accurately tagged 92.7% as ham.  Based on these results, using the LinearSVC classifer for classifiying ham would be a good choice.__\n",
    "\n",
    "__How does it peform against spam?__"
   ]
  },
  {
   "cell_type": "markdown",
   "metadata": {},
   "source": [
    "Let's check against known spam as second commparison"
   ]
  },
  {
   "cell_type": "code",
   "execution_count": 40,
   "metadata": {
    "collapsed": true
   },
   "outputs": [],
   "source": [
    "## Spam Email Messages \n",
    "## ========================\n",
    "\n",
    "spam2corpusdir = './20030228_spam/spam/'   # local directory structure of the ham emails\n",
    "spam2corpus0, spam2corpus, spam2_emails = init_corpus(spam2corpusdir, 'spam')"
   ]
  },
  {
   "cell_type": "code",
   "execution_count": 41,
   "metadata": {
    "collapsed": true
   },
   "outputs": [],
   "source": [
    "predictions = [classifier2_LSVC.classify(get_features(email, preprocess1)) for (email, label) in spam2_emails]"
   ]
  },
  {
   "cell_type": "code",
   "execution_count": 42,
   "metadata": {
    "collapsed": false
   },
   "outputs": [
    {
     "data": {
      "text/plain": [
       "(Counter({'ham': 2389, 'spam': 9637}), 12026)"
      ]
     },
     "execution_count": 42,
     "metadata": {},
     "output_type": "execute_result"
    }
   ],
   "source": [
    "Counter(predictions), len(predictions)"
   ]
  },
  {
   "cell_type": "markdown",
   "metadata": {},
   "source": [
    "__Of the spam messages, the classifer accurately tagged 80% as spam.  Based on these results, we would need to tune the model as a next step, particularly for spam.__"
   ]
  }
 ],
 "metadata": {
  "anaconda-cloud": {},
  "kernelspec": {
   "display_name": "Python [Root]",
   "language": "python",
   "name": "Python [Root]"
  },
  "language_info": {
   "codemirror_mode": {
    "name": "ipython",
    "version": 2
   },
   "file_extension": ".py",
   "mimetype": "text/x-python",
   "name": "python",
   "nbconvert_exporter": "python",
   "pygments_lexer": "ipython2",
   "version": "2.7.12"
  }
 },
 "nbformat": 4,
 "nbformat_minor": 2
}
