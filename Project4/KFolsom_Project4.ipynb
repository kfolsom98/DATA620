{
 "cells": [
  {
   "cell_type": "markdown",
   "metadata": {},
   "source": [
    "### DATA 620\n",
    "\n",
    "### Project 4: Word Sense Disambiguation\n",
    "\n",
    "Keith Folsom 11/26/2017\n",
    "\n",
    "### Overview \n",
    "\n",
    "The Senseval 2 Corpus contains data intended to train word-sense disambiguation classifiers. It contains data for four words: hard, interest, line, and serve. Choose one of these four words, and load the corresponding data.\n",
    "\n",
    "Using this dataset, build a classifier that predicts the correct sense tag for a given instance.  In this project, the word used for classification will be `interest`.  "
   ]
  },
  {
   "cell_type": "markdown",
   "metadata": {},
   "source": [
    "#### Import the required packages"
   ]
  },
  {
   "cell_type": "code",
   "execution_count": 133,
   "metadata": {},
   "outputs": [],
   "source": [
    "import nltk\n",
    "from nltk.corpus import stopwords\n",
    "import random\n",
    "from nltk.corpus import senseval\n",
    "from nltk.classify import accuracy, NaiveBayesClassifier, MaxentClassifier\n",
    "from collections import defaultdict\n",
    "from sklearn.metrics import classification_report\n",
    "import itertools\n",
    "import numpy as np\n",
    "import pandas as pd\n",
    "\n",
    "%matplotlib inline\n",
    "import matplotlib.pyplot as plt"
   ]
  },
  {
   "cell_type": "code",
   "execution_count": 134,
   "metadata": {},
   "outputs": [
    {
     "name": "stdout",
     "output_type": "stream",
     "text": [
      "[nltk_data] Downloading package senseval to\n",
      "[nltk_data]     C:\\Users\\kfolsom\\AppData\\Roaming\\nltk_data...\n",
      "[nltk_data]   Package senseval is already up-to-date!\n"
     ]
    },
    {
     "data": {
      "text/plain": [
       "True"
      ]
     },
     "execution_count": 134,
     "metadata": {},
     "output_type": "execute_result"
    }
   ],
   "source": [
    "nltk.download('senseval')"
   ]
  },
  {
   "cell_type": "markdown",
   "metadata": {},
   "source": [
    "### Understanding the strcture of the Senseval 2 Corpus\n",
    "\n",
    "Let's see what the target words are in the senseval corpus and how the corpus is structured."
   ]
  },
  {
   "cell_type": "code",
   "execution_count": 135,
   "metadata": {},
   "outputs": [
    {
     "data": {
      "text/plain": [
       "['hard.pos', 'interest.pos', 'line.pos', 'serve.pos']"
      ]
     },
     "execution_count": 135,
     "metadata": {},
     "output_type": "execute_result"
    }
   ],
   "source": [
    "senseval.fileids()"
   ]
  },
  {
   "cell_type": "markdown",
   "metadata": {},
   "source": [
    "There are sets of word senses for hard, interest, line, and serve.  Let's look at \"interest\" specifically, which will be target word used in this project."
   ]
  },
  {
   "cell_type": "code",
   "execution_count": 136,
   "metadata": {},
   "outputs": [
    {
     "data": {
      "text/plain": [
       "[SensevalInstance(word='interest-n', position=18, context=[('yields', 'NNS'), ('on', 'IN'), ('money-market', 'JJ'), ('mutual', 'JJ'), ('funds', 'NNS'), ('continued', 'VBD'), ('to', 'TO'), ('slide', 'VB'), (',', ','), ('amid', 'IN'), ('signs', 'VBZ'), ('that', 'IN'), ('portfolio', 'NN'), ('managers', 'NNS'), ('expect', 'VBP'), ('further', 'JJ'), ('declines', 'NNS'), ('in', 'IN'), ('interest', 'NN'), ('rates', 'NNS'), ('.', '.')], senses=('interest_6',))]"
      ]
     },
     "execution_count": 136,
     "metadata": {},
     "output_type": "execute_result"
    }
   ],
   "source": [
    "senseval.instances('interest.pos')[:1]"
   ]
  },
  {
   "cell_type": "markdown",
   "metadata": {},
   "source": [
    "#### How to interpret the data structures in the senseval corpus?\n",
    "\n",
    "Each entry in the corpus is an instance (noted by SensevalInstance) with four associated attributes:\n",
    "1. __word__\n",
    "    * `word` specifies the target word together with its syntactic category; for example, hard-a means that the\n",
    "word is hard and that its category is adjective;\n",
    "2. __position__ \n",
    "    * `position` gives its position within the sentence (starting with position 0)\n",
    "3. __context__  \n",
    "    * `context` represents the sentence as a list of pairs, each consisting of a token and its tag\n",
    "4. __senses__\n",
    "    * `senses` is a tuple, each item in the tuple being a sense for the target word; typically, this tuple consists of\n",
    "only one argument, but there are a few examples in the corpus where there is more than one, representing\n",
    "the fact that the annotator couldn’t decide which sense to assign to the word; for simplicity, we are going\n",
    "to ignore any non-first arguments to the attribute senses"
   ]
  },
  {
   "cell_type": "code",
   "execution_count": 137,
   "metadata": {
    "collapsed": true
   },
   "outputs": [],
   "source": [
    "interest_instances = senseval.instances('interest.pos')"
   ]
  },
  {
   "cell_type": "markdown",
   "metadata": {},
   "source": [
    "What are the different categories of the target word `interest` in the corpus?"
   ]
  },
  {
   "cell_type": "code",
   "execution_count": 138,
   "metadata": {},
   "outputs": [
    {
     "data": {
      "text/plain": [
       "['interest-n']"
      ]
     },
     "execution_count": 138,
     "metadata": {},
     "output_type": "execute_result"
    }
   ],
   "source": [
    "list(set(i.word[:] for i in interest_instances))"
   ]
  },
  {
   "cell_type": "markdown",
   "metadata": {},
   "source": [
    "The single result of `interest-n` shows that the word is interest and with a syntactic category of 'noun.'"
   ]
  },
  {
   "cell_type": "markdown",
   "metadata": {},
   "source": [
    "What  are the different senses for `interest`:"
   ]
  },
  {
   "cell_type": "code",
   "execution_count": 139,
   "metadata": {},
   "outputs": [
    {
     "data": {
      "text/plain": [
       "['interest_4',\n",
       " 'interest_5',\n",
       " 'interest_1',\n",
       " 'interest_2',\n",
       " 'interest_6',\n",
       " 'interest_3']"
      ]
     },
     "execution_count": 139,
     "metadata": {},
     "output_type": "execute_result"
    }
   ],
   "source": [
    "list(set(i.senses[0] for i in interest_instances))"
   ]
  },
  {
   "cell_type": "markdown",
   "metadata": {},
   "source": [
    "### The 6 uses of the word \"interest\" in the corpus"
   ]
  },
  {
   "cell_type": "markdown",
   "metadata": {},
   "source": [
    "1. __interest1:__ a sense of concern with and curiosity about someone or something  \n",
    "“an interest in music”  \n",
    "\n",
    "2. __interest2:__ a reason for wanting something done   \n",
    "“in the interest of safety”  \n",
    "\n",
    "3. __interest3:__ the power of attracting or holding one’s attention (because it is unusual or exciting etc.)  \n",
    "“they said nothing of great interest”  \n",
    "\n",
    "4. __interest4:__ a fixed charge for borrowing money; usually a percentage of the amount borrowed  \n",
    "“how much interest do you pay on your mortgage?”  \n",
    "\n",
    "5. __interest5:__ (law) a right or legal share of something; a financial involvement with something  \n",
    "“they have interests all over the world”  \n",
    "\n",
    "6. __interest6:__ (usually plural) a social group whose members control some field of activity and who have common aims  \n",
    "“the iron interests stepped up production”  "
   ]
  },
  {
   "cell_type": "markdown",
   "metadata": {},
   "source": [
    "What's the frequency distribution of instances by sense?"
   ]
  },
  {
   "cell_type": "code",
   "execution_count": 140,
   "metadata": {},
   "outputs": [
    {
     "data": {
      "text/plain": [
       "FreqDist({'interest_1': 361,\n",
       "          'interest_2': 11,\n",
       "          'interest_3': 66,\n",
       "          'interest_4': 178,\n",
       "          'interest_5': 500,\n",
       "          'interest_6': 1252})"
      ]
     },
     "execution_count": 140,
     "metadata": {},
     "output_type": "execute_result"
    }
   ],
   "source": [
    "nltk.FreqDist([i.senses[0] for i in interest_instances])"
   ]
  },
  {
   "cell_type": "markdown",
   "metadata": {},
   "source": [
    "#### Baseline Model Using the Most Frequent Sense\n",
    "\n",
    "One approach as a model could be to use the majority sense as a baseline.  In other words, simply using the most frequently occurring sense would result in a certain minimum accuracy for classifier.  \n",
    "\n",
    "Below, we can see the `interest_6` is the most frequent sense, occurring 1252 times.  Using this sense, we can establish an accuracy of close to 53%.  However, the goal of the exercise is to exceed this using a NaiveBayes classification model. "
   ]
  },
  {
   "cell_type": "code",
   "execution_count": 141,
   "metadata": {
    "collapsed": true
   },
   "outputs": [],
   "source": [
    "interest_sense_fd = nltk.FreqDist([i.senses[0] for i in senseval.instances('interest.pos')])"
   ]
  },
  {
   "cell_type": "code",
   "execution_count": 142,
   "metadata": {},
   "outputs": [
    {
     "data": {
      "image/png": "[encoded data removed]",
      "text/plain": [
       "<matplotlib.figure.Figure at 0x13cd1e10>"
      ]
     },
     "metadata": {},
     "output_type": "display_data"
    }
   ],
   "source": [
    "interest_sense_fd.plot(10,cumulative=False)"
   ]
  },
  {
   "cell_type": "code",
   "execution_count": 143,
   "metadata": {},
   "outputs": [
    {
     "data": {
      "text/plain": [
       "0.5287162162162162"
      ]
     },
     "execution_count": 143,
     "metadata": {},
     "output_type": "execute_result"
    }
   ],
   "source": [
    "interest_sense_fd.freq(interest_sense_fd.most_common(1)[0][0])"
   ]
  },
  {
   "cell_type": "markdown",
   "metadata": {},
   "source": [
    "### Classification Approach\n",
    "\n",
    "A NaiveBayes classifier will be trained using context features associated with the target word `interest`.  This means the context of the target word will be determined by the collocation of the words and tags around the target word, both to the right and left side of the target word.\n",
    "\n",
    "For example, if we look at an interest instance example:\n",
    "\n",
    "__[SensevalInstance(word=u'interest-n', position=18, context=[('yields', 'NNS'), ('on', 'IN'), ('money-market', 'JJ'), ('mutual', 'JJ'), ('funds', 'NNS'), ('continued', 'VBD'), ('to', 'TO'), ('slide', 'VB'), (',', ','), ('amid', 'IN'), ('signs', 'VBZ'), ('that', 'IN'), ('portfolio', 'NN'), ('managers', 'NNS'), ('expect', 'VBP'), ('further', 'JJ'), ('declines', 'NNS'), ('in', 'IN'), ('interest', 'NN'), ('rates', 'NNS'), ('.', '.')], senses=('interest_6',))]__\n",
    "\n",
    "The word-tag pairs to the immediate right and left of the word `interest` (identified in position 18) are:\n",
    "    * ('in', 'IN')\n",
    "    * ('rates', 'NNS')\n",
    "   \n",
    "The word and the POS tag are provided.  In this case, the distance is 1 -- 1 pair before and 1 pair after the target word in the sentence.\n",
    "\n",
    "A distance of 2 would look like:\n",
    "    * ('declines', 'NNS') ('in', 'IN')\n",
    "    * ('rates', 'NNS'), ('.', '.')"
   ]
  },
  {
   "cell_type": "markdown",
   "metadata": {},
   "source": [
    "### Feature Extractors - Evolution and Selection\n",
    "\n",
    "Test various feature extractors using the word context approach outlined above."
   ]
  },
  {
   "cell_type": "code",
   "execution_count": 144,
   "metadata": {
    "collapsed": true
   },
   "outputs": [],
   "source": [
    "# create training and test data sets\n",
    "size = int( len( interest_instances) * 0.1) \n",
    "train_set, test_set = interest_instances[size:], interest_instances[:size]"
   ]
  },
  {
   "cell_type": "code",
   "execution_count": 145,
   "metadata": {
    "collapsed": true
   },
   "outputs": [],
   "source": [
    "# test using the word-tag pairs a distance of 1 from the target word's position\n",
    "def feature_extractor1(instance):\n",
    "    ind = instance.position\n",
    "    return {\n",
    "               'pre-1'  : instance.context[ind-1],\n",
    "               'post-1' : instance.context[ind+1]\n",
    "           }"
   ]
  },
  {
   "cell_type": "code",
   "execution_count": 146,
   "metadata": {
    "collapsed": true
   },
   "outputs": [],
   "source": [
    "def featureset(data, extractor):\n",
    "   return [(extractor(inst), inst.senses[0]) for inst in data]"
   ]
  },
  {
   "cell_type": "code",
   "execution_count": 147,
   "metadata": {},
   "outputs": [
    {
     "name": "stdout",
     "output_type": "stream",
     "text": [
      "Accuracy: 0.8602\n"
     ]
    }
   ],
   "source": [
    "# train the classifier\n",
    "classifier = nltk.NaiveBayesClassifier.train(featureset(train_set, feature_extractor1))\n",
    "\n",
    "# check the accuracy against the test test\n",
    "acc = accuracy(classifier, (featureset(test_set, feature_extractor1)) )\n",
    "\n",
    "print('Accuracy: %6.4f' % acc)"
   ]
  },
  {
   "cell_type": "code",
   "execution_count": 148,
   "metadata": {
    "collapsed": true
   },
   "outputs": [],
   "source": [
    "def feature_extractor2(instance):\n",
    "    ind = instance.position\n",
    "    return {\n",
    "               'pre-2'  : instance.context[ind-2],\n",
    "               'pre-1'  : instance.context[ind-1],\n",
    "               'post-1' : instance.context[ind+1]\n",
    "           }"
   ]
  },
  {
   "cell_type": "code",
   "execution_count": 149,
   "metadata": {},
   "outputs": [
    {
     "name": "stdout",
     "output_type": "stream",
     "text": [
      "Accuracy: 0.8729\n"
     ]
    }
   ],
   "source": [
    "# train the classifier\n",
    "classifier = nltk.NaiveBayesClassifier.train(featureset(train_set, feature_extractor2))\n",
    "\n",
    "# check the accuracy against the test test\n",
    "acc = accuracy(classifier, (featureset(test_set, feature_extractor2)) )\n",
    "\n",
    "print('Accuracy: %6.4f' % acc)"
   ]
  },
  {
   "cell_type": "code",
   "execution_count": 150,
   "metadata": {
    "collapsed": true
   },
   "outputs": [],
   "source": [
    "def feature_extractor3(instance):\n",
    "    ind = instance.position\n",
    "    return {\n",
    "               'pre-3'  : instance.context[ind-3],\n",
    "               'pre-2'  : instance.context[ind-2],\n",
    "               'pre-1'  : instance.context[ind-1],\n",
    "               'post-1' : instance.context[ind+1]\n",
    "           }"
   ]
  },
  {
   "cell_type": "code",
   "execution_count": 151,
   "metadata": {},
   "outputs": [
    {
     "name": "stdout",
     "output_type": "stream",
     "text": [
      "Accuracy: 0.8898\n"
     ]
    }
   ],
   "source": [
    "classifier = nltk.NaiveBayesClassifier.train(featureset(train_set, feature_extractor3))\n",
    "\n",
    "# check the accuracy against the test test\n",
    "acc = accuracy(classifier, (featureset(test_set, feature_extractor3)) )\n",
    "\n",
    "print('Accuracy: %6.4f' % acc)"
   ]
  },
  {
   "cell_type": "markdown",
   "metadata": {},
   "source": [
    "With these quick tests of accuracy we can see that providing more context through adding the number of word-tag pairs to the left and right of the target word increases the accuracy."
   ]
  },
  {
   "cell_type": "code",
   "execution_count": 152,
   "metadata": {
    "collapsed": true
   },
   "outputs": [],
   "source": [
    "def feature_extractor_dist(instance, dist=6):\n",
    "    \n",
    "    features = {}\n",
    "    ind = instance.position\n",
    "    con = instance.context\n",
    "    for i in range(max(0, ind-dist), ind):\n",
    "        j = ind-i\n",
    "        features['previous-%s' % (j)] = con[i]\n",
    "    \n",
    "    features['post+1'] = con[ind+1]\n",
    "        \n",
    "    return features"
   ]
  },
  {
   "cell_type": "markdown",
   "metadata": {},
   "source": [
    "#### Create an extractor function that accepts as a parameter the distance to the right and left of the target word for the number of word-tag pairs to include.\n",
    "\n",
    "The `feature_extractor_dist2` function below is the feature extractor used in the more detailed classification process below which will focus on optimizing the distance to find the best classsifier"
   ]
  },
  {
   "cell_type": "code",
   "execution_count": 153,
   "metadata": {
    "collapsed": true
   },
   "outputs": [],
   "source": [
    "def feature_extractor_dist2(instance, dist=6):\n",
    "    \n",
    "    features = {}\n",
    "    ind = instance.position\n",
    "    con = instance.context\n",
    "    for i in range(max(0, ind-dist), ind):\n",
    "        j = ind-i\n",
    "        features['previous-%s' % (j)] = con[i]\n",
    "     \n",
    "    for i in range(ind+1, min(ind+dist+1, len(con))):\n",
    "        j = i-ind\n",
    "        features['post-%s' % (j)] = con[i]\n",
    "            \n",
    "    return features  "
   ]
  },
  {
   "cell_type": "markdown",
   "metadata": {},
   "source": [
    "### Word Sense Disambiugation Classification"
   ]
  },
  {
   "cell_type": "code",
   "execution_count": 154,
   "metadata": {},
   "outputs": [],
   "source": [
    "def cr2df(cr, classifier_name=None, distance=None):\n",
    "    # Parse rows\n",
    "    tmp = list()\n",
    "    for row in cr.split(\"\\n\"):\n",
    "        parsed_row = [x for x in row.split(\"  \") if len(x) > 0]\n",
    "        if len(parsed_row) > 0:\n",
    "            tmp.append(parsed_row)\n",
    "    \n",
    "    # Store in dictionary\n",
    "    measures = tmp[0]\n",
    "\n",
    "    D_class_data = defaultdict(dict)\n",
    "    for row in tmp[1:]:\n",
    "        class_label = row[0]\n",
    "        for j, m in enumerate(measures):\n",
    "            D_class_data[class_label][m.strip()] = float(row[j + 1].strip())\n",
    "    \n",
    "    ret = pd.DataFrame.from_dict(D_class_data, orient=\"index\")\n",
    "\n",
    "    # add the classifier name and distance to the dataframe if provided\n",
    "    if classifier_name is not None: ret['classifier'] = classifier_name \n",
    "    if distance is not None: ret['distance'] = distance \n",
    "    \n",
    "    return ret  "
   ]
  },
  {
   "cell_type": "code",
   "execution_count": 155,
   "metadata": {
    "collapsed": true
   },
   "outputs": [],
   "source": [
    "#https://stackoverflow.com/questions/28200786/how-to-plot-scikit-learn-classification-report\n",
    "\n",
    "def plot_classification_report(cr, title='Classification Report', cmap=plt.cm.Blues):\n",
    "\n",
    "    lines = cr.split('\\n')\n",
    "\n",
    "    classes = []\n",
    "    plotMat = []\n",
    "    for line in lines[2 : (len(lines) - 3)]:\n",
    "        #print(line)\n",
    "        t = line.split()\n",
    "        # print(t)\n",
    "        classes.append(t[0])\n",
    "        v = [float(x) for x in t[1: len(t) - 1]]\n",
    "        plotMat.append(v)\n",
    "\n",
    "\n",
    "    plt.imshow(plotMat, interpolation='nearest', cmap=cmap)\n",
    "    plt.title(title)\n",
    "    plt.colorbar()\n",
    "    x_tick_marks = np.arange(3)\n",
    "    y_tick_marks = np.arange(len(classes))\n",
    "    plt.xticks(x_tick_marks, ['precision', 'recall', 'f1-score'], rotation=45)\n",
    "    plt.yticks(y_tick_marks, classes)\n",
    "    plt.tight_layout()\n",
    "    plt.ylabel('Classes')\n",
    "    plt.xlabel('Measures')\n",
    "\n"
   ]
  },
  {
   "cell_type": "code",
   "execution_count": 163,
   "metadata": {},
   "outputs": [],
   "source": [
    "### Main Function ##\n",
    "### Based on and extended from the NLTK Example ###\n",
    "\n",
    "_inst_cache = {}\n",
    "\n",
    "def wsd_classifier(trainer, word, feature_extractor, dist, displayOutput = True, show_errors = 5):\n",
    "    \n",
    "    # Get the instances.\n",
    "    if displayOutput: print('Reading data...')\n",
    "    global _inst_cache\n",
    "    if word not in _inst_cache:\n",
    "        _inst_cache[word] = [(i, i.senses[0]) for i in senseval.instances(word)]\n",
    "    instances = _inst_cache[word][:]\n",
    "    n = len(instances)\n",
    "    senses = list(set(l for (i, l) in instances))\n",
    "    if displayOutput: print('  Senses: ' + ' '.join(senses))\n",
    "    \n",
    "    sense_fd = nltk.FreqDist([i.senses[0] for i in senseval.instances(word)])\n",
    "    \n",
    "    if displayOutput: \n",
    "        sense_fd.plot(10,cumulative=False)\n",
    "        print(\"Most Common Instance Sense\", sense_fd.most_common(1))\n",
    "        print('\\nBaseline Classifier...')\n",
    "        print(\"   Baseline Frequency: \", sense_fd.freq(sense_fd.most_common(1)[0][0]))\n",
    "\n",
    "    # Randomly split the names into a test & train set.\n",
    "    if displayOutput:  print('\\nSplitting into test & train...')\n",
    "    random.seed(123456)\n",
    "    random.shuffle(instances)\n",
    "    train = instances[:int(.9*n)]\n",
    "    test = instances[int(.1*n):n]\n",
    "\n",
    "    # Train up a classifier.\n",
    "    if displayOutput: print('\\nTraining classifier...')\n",
    "    classifier = trainer([(feature_extractor(i, dist), l) for (i, l) in train])\n",
    "    acc = accuracy(classifier, [(feature_extractor(i, dist), l) for (i, l) in train])\n",
    "    if displayOutput: print('Train Accuracy: %6.4f' % acc)\n",
    "\n",
    "    # Run the classifier on the test data.\n",
    "    if displayOutput: print('\\nTesting classifier...')\n",
    "    acc = accuracy(classifier, [(feature_extractor(i, dist), l) for (i, l) in test])\n",
    "    if displayOutput: print('Test Accuracy: %6.4f' % acc)\n",
    "\n",
    "    # Errors \n",
    "    errors = []\n",
    "    for (i, label) in test:\n",
    "       guess = classifier.classify(feature_extractor(i, dist))\n",
    "        \n",
    "       if guess != label:\n",
    "                con =  i.context\n",
    "                position = i.position\n",
    "                #item_number = str(test.index((i, label)))\n",
    "                word_list = []\n",
    "                #for (word, tag) in con:\n",
    "                #    word_list.append(word)\n",
    "                #hard_highlighted = word_list[position].upper()\n",
    "                #word_list_highlighted = word_list[0:position] + [hard_highlighted] + word_list[position+1:]\n",
    "                #sentence = ' '.join(word_list_highlighted)\n",
    "                errors.append([con, guess,label]) #item_number,\n",
    "                \n",
    "    \n",
    "    ## Confusion Matrix \n",
    "    if displayOutput: \n",
    "        print(\"\\nConfusion Matrix (Test)\")\n",
    "        print(\"................................\\n\")\n",
    "    gold = [label for (i, label) in test]\n",
    "    predicted = [classifier.classify(feature_extractor(i, dist)) for (i,label) in test]\n",
    "    cm = nltk.ConfusionMatrix(gold,predicted)\n",
    "    if displayOutput: print(cm)\n",
    "    \n",
    "    ## Classification Report \n",
    "    if displayOutput: \n",
    "        print(\"\\nClassification Report (Test)\")\n",
    "        print(\"................................\\n\")\n",
    "        \n",
    "    # create table with precision, recall, f1-score, and support\n",
    "    train_report=classification_report(gold, predicted, digits=4)\n",
    "    if displayOutput: \n",
    "        print(train_report)\n",
    "        plot_classification_report(train_report)\n",
    "        #most informative features\n",
    "        classifier.show_most_informative_features(10)\n",
    "\n",
    "    ## errors\n",
    "    if displayOutput: \n",
    "        \n",
    "        print(\"\\nErrors\")\n",
    "        print(\"................................\\n\")\n",
    "        for (sentence, guess, label) in sorted(errors[:show_errors]):\n",
    "            print('CORRECT=%s GUESS=%s SENTENCE=%s'%( label, guess, sentence))\n",
    "    \n",
    "    \n",
    "    # Return the classifier\n",
    "    return classifier, train_report, gold, predicted, test"
   ]
  },
  {
   "cell_type": "markdown",
   "metadata": {},
   "source": [
    "#### Using the collocation approach, determine the optimal distance to use in the feature extractor based on the average f1-score from the resulting classification reports.\n",
    "\n",
    "Train the classifier using distances ranging from 1 - 10 and store the resulting classification reports from each model."
   ]
  },
  {
   "cell_type": "code",
   "execution_count": 157,
   "metadata": {},
   "outputs": [
    {
     "name": "stderr",
     "output_type": "stream",
     "text": [
      "C:\\Users\\kfolsom\\AppData\\Local\\Continuum\\anaconda3\\lib\\site-packages\\sklearn\\metrics\\classification.py:1135: UndefinedMetricWarning: Precision and F-score are ill-defined and being set to 0.0 in labels with no predicted samples.\n",
      "  'precision', 'predicted', average, warn_for)\n"
     ]
    }
   ],
   "source": [
    "all_reports = pd.DataFrame()\n",
    "\n",
    "for dist in range(1, 11):\n",
    "  classifier, cr, gold, predicted, test = wsd_classifier(NaiveBayesClassifier.train, 'interest.pos', \\\n",
    "                                                         feature_extractor_dist2, dist= dist, \\\n",
    "                                                         displayOutput=False)\n",
    "\n",
    "  # convert the classification report to a dataframe\n",
    "  report = cr2df(cr, 'feature_extractor_dist2-'+str(dist), dist)\n",
    "    \n",
    "  # append the individual reports to a single dataframe for reporting\n",
    "  all_reports = all_reports.append(report, ignore_index=False)"
   ]
  },
  {
   "cell_type": "markdown",
   "metadata": {},
   "source": [
    "#### Sort the combined classifcation resports on the avg/total f1-score to determined the optimized distance to use in the classifier."
   ]
  },
  {
   "cell_type": "code",
   "execution_count": 158,
   "metadata": {},
   "outputs": [
    {
     "data": {
      "text/html": [
       "<div>\n",
       "<style>\n",
       "    .dataframe thead tr:only-child th {\n",
       "        text-align: right;\n",
       "    }\n",
       "\n",
       "    .dataframe thead th {\n",
       "        text-align: left;\n",
       "    }\n",
       "\n",
       "    .dataframe tbody tr th {\n",
       "        vertical-align: top;\n",
       "    }\n",
       "</style>\n",
       "<table border=\"1\" class=\"dataframe\">\n",
       "  <thead>\n",
       "    <tr style=\"text-align: right;\">\n",
       "      <th></th>\n",
       "      <th>precision</th>\n",
       "      <th>recall</th>\n",
       "      <th>f1-score</th>\n",
       "      <th>support</th>\n",
       "      <th>classifier</th>\n",
       "      <th>distance</th>\n",
       "    </tr>\n",
       "  </thead>\n",
       "  <tbody>\n",
       "    <tr>\n",
       "      <th>avg / total</th>\n",
       "      <td>0.9808</td>\n",
       "      <td>0.9803</td>\n",
       "      <td>0.9804</td>\n",
       "      <td>2132.0</td>\n",
       "      <td>feature_extractor_dist2-10</td>\n",
       "      <td>10</td>\n",
       "    </tr>\n",
       "    <tr>\n",
       "      <th>avg / total</th>\n",
       "      <td>0.9798</td>\n",
       "      <td>0.9794</td>\n",
       "      <td>0.9795</td>\n",
       "      <td>2132.0</td>\n",
       "      <td>feature_extractor_dist2-8</td>\n",
       "      <td>8</td>\n",
       "    </tr>\n",
       "    <tr>\n",
       "      <th>avg / total</th>\n",
       "      <td>0.9798</td>\n",
       "      <td>0.9794</td>\n",
       "      <td>0.9795</td>\n",
       "      <td>2132.0</td>\n",
       "      <td>feature_extractor_dist2-9</td>\n",
       "      <td>9</td>\n",
       "    </tr>\n",
       "    <tr>\n",
       "      <th>avg / total</th>\n",
       "      <td>0.9792</td>\n",
       "      <td>0.9789</td>\n",
       "      <td>0.9790</td>\n",
       "      <td>2132.0</td>\n",
       "      <td>feature_extractor_dist2-7</td>\n",
       "      <td>7</td>\n",
       "    </tr>\n",
       "    <tr>\n",
       "      <th>avg / total</th>\n",
       "      <td>0.9764</td>\n",
       "      <td>0.9761</td>\n",
       "      <td>0.9762</td>\n",
       "      <td>2132.0</td>\n",
       "      <td>feature_extractor_dist2-6</td>\n",
       "      <td>6</td>\n",
       "    </tr>\n",
       "    <tr>\n",
       "      <th>avg / total</th>\n",
       "      <td>0.9717</td>\n",
       "      <td>0.9709</td>\n",
       "      <td>0.9709</td>\n",
       "      <td>2132.0</td>\n",
       "      <td>feature_extractor_dist2-5</td>\n",
       "      <td>5</td>\n",
       "    </tr>\n",
       "    <tr>\n",
       "      <th>avg / total</th>\n",
       "      <td>0.9675</td>\n",
       "      <td>0.9667</td>\n",
       "      <td>0.9666</td>\n",
       "      <td>2132.0</td>\n",
       "      <td>feature_extractor_dist2-4</td>\n",
       "      <td>4</td>\n",
       "    </tr>\n",
       "    <tr>\n",
       "      <th>avg / total</th>\n",
       "      <td>0.9648</td>\n",
       "      <td>0.9639</td>\n",
       "      <td>0.9636</td>\n",
       "      <td>2132.0</td>\n",
       "      <td>feature_extractor_dist2-3</td>\n",
       "      <td>3</td>\n",
       "    </tr>\n",
       "    <tr>\n",
       "      <th>avg / total</th>\n",
       "      <td>0.9439</td>\n",
       "      <td>0.9418</td>\n",
       "      <td>0.9402</td>\n",
       "      <td>2132.0</td>\n",
       "      <td>feature_extractor_dist2-2</td>\n",
       "      <td>2</td>\n",
       "    </tr>\n",
       "    <tr>\n",
       "      <th>avg / total</th>\n",
       "      <td>0.9025</td>\n",
       "      <td>0.9057</td>\n",
       "      <td>0.9029</td>\n",
       "      <td>2132.0</td>\n",
       "      <td>feature_extractor_dist2-1</td>\n",
       "      <td>1</td>\n",
       "    </tr>\n",
       "  </tbody>\n",
       "</table>\n",
       "</div>"
      ],
      "text/plain": [
       "             precision  recall  f1-score  support                  classifier  \\\n",
       "avg / total     0.9808  0.9803    0.9804   2132.0  feature_extractor_dist2-10   \n",
       "avg / total     0.9798  0.9794    0.9795   2132.0   feature_extractor_dist2-8   \n",
       "avg / total     0.9798  0.9794    0.9795   2132.0   feature_extractor_dist2-9   \n",
       "avg / total     0.9792  0.9789    0.9790   2132.0   feature_extractor_dist2-7   \n",
       "avg / total     0.9764  0.9761    0.9762   2132.0   feature_extractor_dist2-6   \n",
       "avg / total     0.9717  0.9709    0.9709   2132.0   feature_extractor_dist2-5   \n",
       "avg / total     0.9675  0.9667    0.9666   2132.0   feature_extractor_dist2-4   \n",
       "avg / total     0.9648  0.9639    0.9636   2132.0   feature_extractor_dist2-3   \n",
       "avg / total     0.9439  0.9418    0.9402   2132.0   feature_extractor_dist2-2   \n",
       "avg / total     0.9025  0.9057    0.9029   2132.0   feature_extractor_dist2-1   \n",
       "\n",
       "             distance  \n",
       "avg / total        10  \n",
       "avg / total         8  \n",
       "avg / total         9  \n",
       "avg / total         7  \n",
       "avg / total         6  \n",
       "avg / total         5  \n",
       "avg / total         4  \n",
       "avg / total         3  \n",
       "avg / total         2  \n",
       "avg / total         1  "
      ]
     },
     "execution_count": 158,
     "metadata": {},
     "output_type": "execute_result"
    }
   ],
   "source": [
    "all_reports.loc[[\"avg / total\"]].sort_values(by='f1-score', ascending=0)"
   ]
  },
  {
   "cell_type": "markdown",
   "metadata": {},
   "source": [
    "### Using a distance of 10 yields the best f1-score \n",
    "\n",
    "Let's run the classifier and show the output."
   ]
  },
  {
   "cell_type": "code",
   "execution_count": 159,
   "metadata": {},
   "outputs": [
    {
     "name": "stdout",
     "output_type": "stream",
     "text": [
      "Reading data...\n",
      "  Senses: interest_4 interest_5 interest_1 interest_2 interest_6 interest_3\n"
     ]
    },
    {
     "data": {
      "image/png": "[encoded data removed]",
      "text/plain": [
       "<matplotlib.figure.Figure at 0x122bcf50>"
      ]
     },
     "metadata": {},
     "output_type": "display_data"
    },
    {
     "name": "stdout",
     "output_type": "stream",
     "text": [
      "Most Common Instance Sense [('interest_6', 1252)]\n",
      "\n",
      "Baseline Classifier...\n",
      "   Baseline Frequency:  0.5287162162162162\n",
      "\n",
      "Splitting into test & train...\n",
      "\n",
      "Training classifier...\n",
      "Train Accuracy: 0.9991\n",
      "\n",
      "Testing classifier...\n",
      "Test Accuracy: 0.9803\n",
      "\n",
      "Confusion Matrix (Test)\n",
      "................................\n",
      "\n",
      "           |    i    i    i    i    i    i |\n",
      "           |    n    n    n    n    n    n |\n",
      "           |    t    t    t    t    t    t |\n",
      "           |    e    e    e    e    e    e |\n",
      "           |    r    r    r    r    r    r |\n",
      "           |    e    e    e    e    e    e |\n",
      "           |    s    s    s    s    s    s |\n",
      "           |    t    t    t    t    t    t |\n",
      "           |    _    _    _    _    _    _ |\n",
      "           |    1    2    3    4    5    6 |\n",
      "-----------+-------------------------------+\n",
      "interest_1 | <317>   .    .    5    4    . |\n",
      "interest_2 |    1  <10>   .    .    .    . |\n",
      "interest_3 |    .    .  <55>   2    .    . |\n",
      "interest_4 |    3    .    . <162>   .    1 |\n",
      "interest_5 |    5    .    .    4 <447>   . |\n",
      "interest_6 |    2    .    1    4   10<1099>|\n",
      "-----------+-------------------------------+\n",
      "(row = reference; col = test)\n",
      "\n",
      "\n",
      "Classification Report (Test)\n",
      "................................\n",
      "\n",
      "             precision    recall  f1-score   support\n",
      "\n",
      " interest_1     0.9665    0.9724    0.9694       326\n",
      " interest_2     1.0000    0.9091    0.9524        11\n",
      " interest_3     0.9821    0.9649    0.9735        57\n",
      " interest_4     0.9153    0.9759    0.9446       166\n",
      " interest_5     0.9696    0.9803    0.9749       456\n",
      " interest_6     0.9991    0.9848    0.9919      1116\n",
      "\n",
      "avg / total     0.9808    0.9803    0.9804      2132\n",
      "\n",
      "Most Informative Features\n",
      "                  post-1 = ('in', 'IN')   intere : intere =     71.7 : 1.0\n",
      "             previous-10 = None           intere : intere =     56.9 : 1.0\n",
      "              previous-9 = None           intere : intere =     49.9 : 1.0\n",
      "              previous-8 = None           intere : intere =     45.8 : 1.0\n",
      "              previous-1 = ('other', 'JJ') intere : intere =     44.2 : 1.0\n",
      "                  post-1 = ('of', 'IN')   intere : intere =     42.3 : 1.0\n",
      "              previous-4 = ('after', 'IN') intere : intere =     36.2 : 1.0\n",
      "              previous-5 = None           intere : intere =     32.7 : 1.0\n",
      "                  post-4 = None           intere : intere =     32.1 : 1.0\n",
      "                  post-2 = (',', ',')     intere : intere =     29.6 : 1.0\n",
      "\n",
      "Errors\n",
      "................................\n",
      "\n",
      "CORRECT=interest_5 GUESS=interest_4 SENTENCE=[('but', 'CC'), ('the', 'DT'), ('airlines', 'NNS'), ('are', 'VBP'), ('scarcely', 'RB'), ('a', 'DT'), ('clear', 'JJ'), ('case', 'NN'), (',', ','), ('given', 'VBN'), ('anti-takeover', 'JJ'), ('mischief', 'NN'), ('by', 'IN'), ('secretary', 'NN'), ('of', 'IN'), ('transportation', 'NN'), ('skinner', 'NN'), (',', ','), ('who', 'WP'), ('professes', 'VBZ'), ('to', 'TO'), ('believe', 'VB'), ('safety', 'NN'), ('will', 'MD'), ('be', 'VB'), ('compromised', 'VBN'), ('if', 'IN'), ('klm', 'NN'), ('and', 'CC'), ('british', 'JJ'), ('airways', 'NNS'), ('own', 'JJ'), ('interests', 'NNS'), ('in', 'IN'), ('companies', 'NNS'), ('that', 'WDT'), ('fly', 'VBP'), ('airplanes', 'NNS'), ('.', '.')]\n",
      "CORRECT=interest_6 GUESS=interest_1 SENTENCE=[('despite', 'IN'), ('the', 'DT'), ('higher', 'JJR'), ('yield', 'NN'), (',', ','), ('small', 'JJ'), ('investors', 'NNS'), ('did', 'VBD'), ('n', 'NN'), (\"'t\", 'NN'), ('show', 'NN'), ('much', 'JJ'), ('interest', 'NN'), ('in', 'IN'), ('the', 'DT'), ('notes', 'NNS'), ('.', '.')]\n",
      "CORRECT=interest_4 GUESS=interest_6 SENTENCE=[('if', 'IN'), ('this', 'DT'), ('continues', 'VBZ'), (',', ','), ('u', 'PRP'), ('.', '.'), ('s', 'PRP'), ('.', '.'), ('interests', 'NNS'), ('could', 'MD'), ('be', 'VB'), ('hurt', 'VBN'), ('.', '.')]\n",
      "CORRECT=interest_6 GUESS=interest_5 SENTENCE=[('such', 'JJ'), ('high-yield', 'JJ'), ('debt', 'NN'), ('is', 'VBZ'), ('similar', 'JJ'), ('to', 'TO'), ('a', 'DT'), ('zero-coupon', 'JJ'), ('bond', 'NN'), ('in', 'IN'), ('that', 'DT'), ('it', 'PRP'), ('is', 'VBZ'), ('sold', 'VBN'), ('at', 'IN'), ('a', 'DT'), ('discount', 'NN'), ('to', 'TO'), ('face', 'VB'), ('value', 'NN'), (',', ','), ('with', 'IN'), ('interest', 'NN'), ('accruing', 'VBG'), ('instead', 'RB'), ('of', 'IN'), ('being', 'VBG'), ('paid', 'VBN'), ('to', 'TO'), ('the', 'DT'), ('holder', 'NN'), ('.', '.')]\n",
      "CORRECT=interest_1 GUESS=interest_5 SENTENCE=[('the', 'DT'), ('warrant', 'NN'), ('offering', 'NN'), ('in', 'IN'), ('london', 'NN'), ('by', 'IN'), ('salomon', 'NN'), ('brothers', 'NNS'), ('international', 'JJ'), ('ltd', 'NN'), ('.', '.'), ('is', 'VBZ'), ('an', 'DT'), ('attempt', 'NN'), ('by', 'IN'), ('the', 'DT'), ('investment', 'NN'), ('house', 'NN'), ('to', 'TO'), ('capitalize', 'VB'), ('on', 'IN'), ('interest', 'NN'), ('in', 'IN'), ('the', 'DT'), ('hong', 'NN'), ('kong', 'NN'), ('stock', 'NN'), ('market', 'NN'), ('.', '.')]\n"
     ]
    },
    {
     "data": {
      "image/png": "[encoded data removed]",
      "text/plain": [
       "<matplotlib.figure.Figure at 0x119c0070>"
      ]
     },
     "metadata": {},
     "output_type": "display_data"
    }
   ],
   "source": [
    "classifier, cr, gold, predicted, test = wsd_classifier(NaiveBayesClassifier.train, 'interest.pos', \\\n",
    "                                                       feature_extractor_dist2, dist = 10)"
   ]
  },
  {
   "cell_type": "markdown",
   "metadata": {},
   "source": [
    "### Let's try the WSD classifier on the remaining three words - hard, serve, and line."
   ]
  },
  {
   "cell_type": "code",
   "execution_count": 160,
   "metadata": {},
   "outputs": [
    {
     "name": "stdout",
     "output_type": "stream",
     "text": [
      "Reading data...\n",
      "  Senses: HARD2 HARD3 HARD1\n"
     ]
    },
    {
     "data": {
      "image/png": "[encoded data removed]",
      "text/plain": [
       "<matplotlib.figure.Figure at 0x139e69b0>"
      ]
     },
     "metadata": {},
     "output_type": "display_data"
    },
    {
     "name": "stdout",
     "output_type": "stream",
     "text": [
      "Most Common Instance Sense [('HARD1', 3455)]\n",
      "\n",
      "Baseline Classifier...\n",
      "   Baseline Frequency:  0.797369028386799\n",
      "\n",
      "Splitting into test & train...\n",
      "\n",
      "Training classifier...\n",
      "Train Accuracy: 0.9841\n",
      "\n",
      "Testing classifier...\n",
      "Test Accuracy: 0.9690\n",
      "\n",
      "Confusion Matrix (Test)\n",
      "................................\n",
      "\n",
      "      |    H    H    H |\n",
      "      |    A    A    A |\n",
      "      |    R    R    R |\n",
      "      |    D    D    D |\n",
      "      |    1    2    3 |\n",
      "------+----------------+\n",
      "HARD1 |<3021>  64   28 |\n",
      "HARD2 |   16 <436>   2 |\n",
      "HARD3 |    6    5 <322>|\n",
      "------+----------------+\n",
      "(row = reference; col = test)\n",
      "\n",
      "\n",
      "Classification Report (Test)\n",
      "................................\n",
      "\n",
      "             precision    recall  f1-score   support\n",
      "\n",
      "      HARD1     0.9928    0.9704    0.9815      3113\n",
      "      HARD2     0.8634    0.9604    0.9093       454\n",
      "      HARD3     0.9148    0.9670    0.9401       333\n",
      "\n",
      "avg / total     0.9710    0.9690    0.9695      3900\n",
      "\n",
      "Most Informative Features\n",
      "                  post-1 = ('to', 'TO')    HARD1 : HARD2  =    230.6 : 1.0\n",
      "              previous-2 = ('it', 'PRP')   HARD1 : HARD3  =    131.0 : 1.0\n",
      "                  post-2 = ('at', 'IN')    HARD2 : HARD1  =     86.6 : 1.0\n",
      "                  post-1 = ('work', 'NN')  HARD2 : HARD3  =     74.6 : 1.0\n",
      "              previous-1 = (\"'s\", 'VBZ')   HARD1 : HARD3  =     72.4 : 1.0\n",
      "              previous-2 = ('take', 'VB')  HARD2 : HARD1  =     68.4 : 1.0\n",
      "                  post-1 = ('line', 'NN')  HARD2 : HARD1  =     55.4 : 1.0\n",
      "                  post-1 = ('place', 'NN')  HARD3 : HARD1  =     43.3 : 1.0\n",
      "                  post-3 = ('to', 'TO')    HARD1 : HARD2  =     36.7 : 1.0\n",
      "                  post-1 = ('for', 'IN')   HARD1 : HARD2  =     36.2 : 1.0\n",
      "\n",
      "Errors\n",
      "................................\n",
      "\n",
      "CORRECT=HARD1 GUESS=HARD3 SENTENCE=[('anderson', 'NNP'), ('said', 'VBD'), ('the', 'DT'), ('council', 'NN'), ('did', 'VBD'), ('n', 'NN'), (\"'t\", 'NN'), ('make', 'NN'), ('the', 'DT'), ('needed', 'VBN'), ('hard', 'JJ'), ('decision', 'NN'), ('.', '.')]\n",
      "CORRECT=HARD2 GUESS=HARD1 SENTENCE=[('i', 'PRP'), ('ask', 'VBP'), ('because', 'IN'), ('i', 'PRP'), ('know', 'VBP'), ('this', 'DT'), ('will', 'MD'), ('happen', 'VB'), ('in', 'IN'), ('the', 'DT'), ('family', 'NN'), ('again', 'RB'), (',', ','), ('and', 'CC'), ('although', 'IN'), ('it', 'PRP'), ('may', 'MD'), ('be', 'VB'), ('hard', 'JJ'), ('to', 'TO'), ('believe', 'VB'), (',', ','), ('there', 'EX'), ('were', 'VBD'), ('some', 'DT'), ('hard', 'JJ'), ('feelings', 'NNS'), ('about', 'IN'), ('the', 'DT'), ('``', '``'), ('disposition', 'NN'), ('.', '.'), (\"''\", \"''\")]\n",
      "CORRECT=HARD1 GUESS=HARD2 SENTENCE=[('president', 'NNP'), ('mikhail', 'NNP'), ('gorbachev', 'NNP'), ('has', 'VBZ'), ('warned', 'VBN'), ('of', 'IN'), ('a', 'DT'), ('hard', 'JJ'), ('winter', 'NN'), ('and', 'CC'), ('urged', 'VBD'), ('the', 'DT'), ('west', 'NNP'), ('to', 'TO'), ('contribute', 'VB'), ('food', 'NN'), ('as', 'IN'), ('his', 'PRP$'), ('country', 'NN'), ('makes', 'VBZ'), ('the', 'DT'), ('painful', 'JJ'), ('move', 'NN'), ('from', 'IN'), ('a', 'DT'), ('centralized', 'JJ'), ('economy', 'NN'), ('to', 'TO'), ('a', 'DT'), ('market', 'NN'), ('system', 'NN'), ('.', '.')]\n",
      "CORRECT=HARD3 GUESS=HARD1 SENTENCE=[('to', 'TO'), ('tell', 'VB'), ('the', 'DT'), ('truth', 'NN'), (',', ','), ('i', 'PRP'), ('thought', 'VBD'), ('marble', 'NN'), ('was', 'VBD'), ('much', 'JJ'), ('harder', 'JJ'), ('.', '.'), (\"''\", \"''\")]\n",
      "CORRECT=HARD3 GUESS=HARD1 SENTENCE=[('you', 'PRP'), ('just', 'RB'), ('have', 'VBP'), ('to', 'TO'), ('work', 'VB'), ('a', 'DT'), ('little', 'JJ'), ('harder', 'JJ'), ('to', 'TO'), ('keep', 'VB'), ('the', 'DT'), ('relationship', 'NN'), ('going', 'VBG'), ('.', '.'), (\"''\", \"''\")]\n"
     ]
    },
    {
     "data": {
      "image/png": "[encoded data removed]",
      "text/plain": [
       "<matplotlib.figure.Figure at 0x11e14df0>"
      ]
     },
     "metadata": {},
     "output_type": "display_data"
    }
   ],
   "source": [
    "\n",
    "classifier, cr, gold, predicted, test  = wsd_classifier(NaiveBayesClassifier.train, 'hard.pos', \\\n",
    "                                                       feature_extractor_dist2, dist = 10)"
   ]
  },
  {
   "cell_type": "code",
   "execution_count": 161,
   "metadata": {},
   "outputs": [
    {
     "name": "stdout",
     "output_type": "stream",
     "text": [
      "Reading data...\n",
      "  Senses: SERVE12 SERVE10 SERVE6 SERVE2\n"
     ]
    },
    {
     "data": {
      "image/png": "[encoded data removed]",
      "text/plain": [
       "<matplotlib.figure.Figure at 0x11ade110>"
      ]
     },
     "metadata": {},
     "output_type": "display_data"
    },
    {
     "name": "stdout",
     "output_type": "stream",
     "text": [
      "Most Common Instance Sense [('SERVE10', 1814)]\n",
      "\n",
      "Baseline Classifier...\n",
      "   Baseline Frequency:  0.4143444495203289\n",
      "\n",
      "Splitting into test & train...\n",
      "\n",
      "Training classifier...\n",
      "Train Accuracy: 0.9992\n",
      "\n",
      "Testing classifier...\n",
      "Test Accuracy: 0.9845\n",
      "\n",
      "Confusion Matrix (Test)\n",
      "................................\n",
      "\n",
      "        |    S    S           |\n",
      "        |    E    E    S    S |\n",
      "        |    R    R    E    E |\n",
      "        |    V    V    R    R |\n",
      "        |    E    E    V    V |\n",
      "        |    1    1    E    E |\n",
      "        |    0    2    2    6 |\n",
      "--------+---------------------+\n",
      "SERVE10 |<1621>   8    9    8 |\n",
      "SERVE12 |    2<1129>  11    2 |\n",
      " SERVE2 |    2    6 <771>   1 |\n",
      " SERVE6 |    2    4    6 <359>|\n",
      "--------+---------------------+\n",
      "(row = reference; col = test)\n",
      "\n",
      "\n",
      "Classification Report (Test)\n",
      "................................\n",
      "\n",
      "             precision    recall  f1-score   support\n",
      "\n",
      "    SERVE10     0.9963    0.9848    0.9905      1646\n",
      "    SERVE12     0.9843    0.9869    0.9856      1144\n",
      "     SERVE2     0.9674    0.9885    0.9778       780\n",
      "     SERVE6     0.9703    0.9677    0.9690       371\n",
      "\n",
      "avg / total     0.9846    0.9845    0.9845      3941\n",
      "\n",
      "Most Informative Features\n",
      "                  post-1 = ('as', 'IN')   SERVE2 : SERVE6 =    215.6 : 1.0\n",
      "              previous-1 = ('.', '.')     SERVE1 : SERVE6 =    128.3 : 1.0\n",
      "              previous-2 = ('who', 'WP')  SERVE1 : SERVE1 =     64.0 : 1.0\n",
      "              previous-7 = None           SERVE1 : SERVE2 =     52.5 : 1.0\n",
      "                  post-2 = ('.', '.')     SERVE1 : SERVE1 =     42.0 : 1.0\n",
      "              previous-1 = ('that', 'WDT') SERVE2 : SERVE1 =     40.9 : 1.0\n",
      "              previous-8 = None           SERVE1 : SERVE2 =     39.7 : 1.0\n",
      "              previous-1 = ('which', 'WDT') SERVE6 : SERVE1 =     39.2 : 1.0\n",
      "                  post-1 = ('under', 'IN') SERVE1 : SERVE1 =     39.1 : 1.0\n",
      "              previous-1 = ('before', 'IN') SERVE1 : SERVE1 =     36.3 : 1.0\n",
      "\n",
      "Errors\n",
      "................................\n",
      "\n",
      "CORRECT=SERVE10 GUESS=SERVE12 SENTENCE=[('\"', '\"'), ('they', 'PRP'), ('need', 'VBP'), ('some', 'DT'), ('quirky', 'JJ'), ('individuals', 'NNS'), ('up', 'IN'), ('there', 'EX'), (',', ','), ('some', 'DT'), ('marketing', 'NN'), ('people', 'NNS'), (',', ','), ('\"', '\"'), ('contends', 'VBZ'), ('alta', 'NNP'), ('cools', 'NNP'), (',', ','), ('the', 'DT'), ('editor', 'NN'), ('of', 'IN'), ('for', 'IN'), ('your', 'PRP$'), ('information', 'NNP'), (',', ','), ('an', 'DT'), ('industry', 'NN'), ('newsletter', 'NN'), ('.', '.'), ('others', 'NNS'), ('consider', 'VBP'), ('mr', 'NNP'), ('.', '.'), ('chandler', 'NNP'), (',', ','), ('who', 'WP'), ('serves', 'VBZ'), ('coffee', 'NN'), ('to', 'TO'), ('his', 'PRP$'), ('colleagues', 'NNS'), ('on', 'IN'), ('the', 'DT'), ('company', 'NN'), ('plane', 'NN'), (',', ','), ('too', 'RB'), ('nice', 'JJ'), ('to', 'TO'), ('make', 'VB'), ('further', 'JJ'), ('hard-nosed', 'JJ'), ('cost-cutting', 'JJ'), ('moves', 'NNS'), ('that', 'IN'), ('they', 'PRP'), ('consider', 'VBP'), ('necessary', 'JJ'), ('.', '.')]\n",
      "CORRECT=SERVE2 GUESS=SERVE6 SENTENCE=[('even', 'RB'), ('more', 'RBR'), ('serious', 'JJ'), ('is', 'VBZ'), ('the', 'DT'), ('belief', 'NN'), ('that', 'IN'), ('some', 'DT'), ('therapists', 'NNS'), ('are', 'VBP'), ('playing', 'VBG'), ('it', 'PRP'), ('safe', 'JJ'), ('by', 'IN'), ('refusing', 'VBG'), ('to', 'TO'), ('take', 'VB'), ('on', 'IN'), ('patients', 'NNS'), ('showing', 'VBG'), ('a', 'DT'), ('tendency', 'NN'), ('to', 'TO'), ('violence', 'NN'), ('.', '.'), ('asks', 'VBZ'), ('saleem', 'NNP'), ('shah', 'NNP'), (',', ','), ('the', 'DT'), ('chief', 'NN'), ('of', 'IN'), ('the', 'DT'), ('antisocial', 'NNP'), ('and', 'CC'), ('violent', 'JJ'), ('behavior', 'NN'), ('branch', 'NNP'), ('at', 'IN'), ('the', 'DT'), ('national', 'NNP'), ('institute', 'NNP'), ('of', 'IN'), ('mental', 'NNP'), ('health', 'NNP'), (':', ':'), ('\"', '\"'), ('what', 'WP'), ('societal', 'JJ'), ('purpose', 'NN'), ('is', 'VBZ'), ('served', 'VBD'), ('when', 'WRB'), ('the', 'DT'), ('people', 'NNS'), ('most', 'RBS'), ('in', 'IN'), ('need', 'NN'), ('of', 'IN'), ('treatment', 'NN'), ('are', 'VBP'), ('turned', 'VBN'), ('away', 'RB'), ('?', '.'), ('\"', '\"')]\n",
      "CORRECT=SERVE10 GUESS=SERVE6 SENTENCE=[('i', 'PRP'), ('have', 'VBP'), ('counted', 'VBN'), ('carefully', 'RB'), ('.', '.'), ('ky', 'NNP'), ('phat', 'NNP'), ('will', 'MD'), ('serve', 'VB'), ('more', 'JJR'), ('beer', 'NN'), (',', ','), ('and', 'CC'), ('fleur', 'NNP'), ('will', 'MD'), ('soon', 'RB'), ('serve', 'VB'), ('the', 'DT'), ('sweet', 'JJ'), ('rice', 'NN'), (',', ','), ('which', 'WDT'), ('will', 'MD'), ('keep', 'VB'), ('them', 'PRP'), ('from', 'IN'), ('leaving', 'VBG'), ('.', '.'), ('\"', '\"')]\n",
      "CORRECT=SERVE6 GUESS=SERVE10 SENTENCE=[('judge', 'NNP'), ('robert', 'NNP'), ('bork', 'NNP'), ('contended', 'VBD'), ('that', 'IN'), ('his', 'PRP$'), ('views', 'NNS'), ('on', 'IN'), ('antitrust', 'JJ'), ('law', 'NN'), ('fully', 'RB'), ('consider', 'VB'), ('the', 'DT'), ('interests', 'NNS'), ('of', 'IN'), ('consumers', 'NNS'), (',', ','), ('but', 'CC'), ('argued', 'VBD'), ('that', 'IN'), ('some', 'DT'), ('forms', 'NNS'), ('of', 'IN'), ('antitrust', 'JJ'), ('regulation', 'NN'), ('don', 'NN'), (\"'t\", 'NN'), ('promote', 'VB'), ('competition', 'NN'), ('.', '.'), ('referring', 'VBG'), ('to', 'TO'), ('his', 'PRP$'), ('1978', 'CD'), ('book', 'NN'), ('on', 'IN'), ('antitrust', 'JJ'), ('law', 'NN'), (',', ','), ('the', 'DT'), ('supreme', 'NNP'), ('court', 'NNP'), ('nominee', 'NN'), ('in', 'IN'), ('his', 'PRP$'), ('third', 'JJ'), ('day', 'NN'), ('of', 'IN'), ('testimony', 'NN'), ('told', 'VBD'), ('the', 'DT'), ('senate', 'NNP'), ('judiciary', 'NNP'), ('committee', 'NNP'), (',', ','), ('\"', '\"'), ('my', 'PRP$'), ('entire', 'JJ'), ('book', 'NN'), ('.', '.'), ('.', '.'), ('.', '.'), ('is', 'VBZ'), ('premised', 'VBN'), ('on', 'IN'), ('the', 'DT'), ('question', 'NN'), ('of', 'IN'), ('what', 'WP'), ('best', 'JJS'), ('serves', 'VBZ'), ('consumers', 'NNS'), ('.', '.'), ('.', '.'), ('.', '.'), ('.', '.'), ('\"', '\"')]\n",
      "CORRECT=SERVE6 GUESS=SERVE12 SENTENCE=[('the', 'DT'), ('very', 'JJ'), ('quality', 'NN'), ('of', 'IN'), ('life', 'NN'), ('is', 'VBZ'), ('on', 'IN'), ('the', 'DT'), ('line', 'NN'), (',', ','), ('for', 'IN'), ('education', 'NN'), ('benefits', 'VBZ'), ('all', 'DT'), ('of', 'IN'), ('society', 'NN'), (',', ','), ('not', 'RB'), ('just', 'RB'), ('those', 'DT'), ('who', 'WP'), ('sit', 'VBP'), ('in', 'IN'), ('classrooms', 'NNS'), ('.', '.'), ('meeting', 'VBG'), ('the', 'DT'), ('challenge', 'NN'), ('will', 'MD'), ('take', 'VB'), ('a', 'DT'), ('positive', 'JJ'), ('effort', 'NN'), ('by', 'IN'), ('the', 'DT'), ('colleges', 'NNS'), ('and', 'CC'), ('universities', 'NNS'), ('and', 'CC'), ('by', 'IN'), ('all', 'PDT'), ('the', 'DT'), ('rest', 'NN'), ('of', 'IN'), ('us', 'PRP'), ('who', 'WP'), ('are', 'VBP'), ('served', 'VBD'), ('.', '.')]\n"
     ]
    },
    {
     "data": {
      "image/png": "[encoded data removed]",
      "text/plain": [
       "<matplotlib.figure.Figure at 0x116edaf0>"
      ]
     },
     "metadata": {},
     "output_type": "display_data"
    }
   ],
   "source": [
    "classifier, cr, gold, predicted, test  = wsd_classifier(NaiveBayesClassifier.train, 'serve.pos', \\\n",
    "                                                        feature_extractor_dist2, dist = 10)"
   ]
  },
  {
   "cell_type": "code",
   "execution_count": 162,
   "metadata": {},
   "outputs": [
    {
     "name": "stdout",
     "output_type": "stream",
     "text": [
      "Reading data...\n",
      "  Senses: cord text division formation product phone\n"
     ]
    },
    {
     "data": {
      "image/png": "[encoded data removed]",
      "text/plain": [
       "<matplotlib.figure.Figure at 0x16688b30>"
      ]
     },
     "metadata": {},
     "output_type": "display_data"
    },
    {
     "name": "stdout",
     "output_type": "stream",
     "text": [
      "Most Common Instance Sense [('product', 2217)]\n",
      "\n",
      "Baseline Classifier...\n",
      "   Baseline Frequency:  0.5347322720694645\n",
      "\n",
      "Splitting into test & train...\n",
      "\n",
      "Training classifier...\n",
      "Train Accuracy: 0.9992\n",
      "\n",
      "Testing classifier...\n",
      "Test Accuracy: 0.9759\n",
      "\n",
      "Confusion Matrix (Test)\n",
      "................................\n",
      "\n",
      "          |              f                |\n",
      "          |         d    o                |\n",
      "          |         i    r         p      |\n",
      "          |         v    m         r      |\n",
      "          |         i    a    p    o      |\n",
      "          |    c    s    t    h    d    t |\n",
      "          |    o    i    i    o    u    e |\n",
      "          |    r    o    o    n    c    x |\n",
      "          |    d    n    n    e    t    t |\n",
      "----------+-------------------------------+\n",
      "     cord | <327>   1    2    3    3    2 |\n",
      " division |    . <325>   2    3    .    2 |\n",
      "formation |    5    1 <303>   1    1    4 |\n",
      "    phone |    3    .    3 <381>   1    3 |\n",
      "  product |    6    5    2    6<1959>  16 |\n",
      "     text |    6    .    2    4    3 <347>|\n",
      "----------+-------------------------------+\n",
      "(row = reference; col = test)\n",
      "\n",
      "\n",
      "Classification Report (Test)\n",
      "................................\n",
      "\n",
      "             precision    recall  f1-score   support\n",
      "\n",
      "       cord     0.9424    0.9675    0.9547       338\n",
      "   division     0.9789    0.9789    0.9789       332\n",
      "  formation     0.9650    0.9619    0.9634       315\n",
      "      phone     0.9573    0.9744    0.9658       391\n",
      "    product     0.9959    0.9824    0.9891      1994\n",
      "       text     0.9278    0.9586    0.9429       362\n",
      "\n",
      "avg / total     0.9763    0.9759    0.9760      3732\n",
      "\n",
      "Most Informative Features\n",
      "                  post-1 = ('between', 'IN') divisi : produc =    176.2 : 1.0\n",
      "                  post-1 = (':', ':')       text : produc =     60.3 : 1.0\n",
      "              previous-1 = ('in', 'IN')   format : produc =     57.2 : 1.0\n",
      "              previous-1 = ('telephone', 'NN')  phone : text   =     55.6 : 1.0\n",
      "                  post-1 = ('of', 'IN')   produc : phone  =     55.2 : 1.0\n",
      "              previous-2 = ('along', 'IN') divisi : produc =     47.6 : 1.0\n",
      "              previous-1 = ('long', 'JJ') format : text   =     46.7 : 1.0\n",
      "              previous-1 = ('new', 'JJ')  produc : format =     35.8 : 1.0\n",
      "              previous-2 = ('on', 'IN')    phone : format =     33.8 : 1.0\n",
      "                  post-1 = ('like', 'IN')   text : produc =     33.5 : 1.0\n",
      "\n",
      "Errors\n",
      "................................\n",
      "\n",
      "CORRECT=formation GUESS=text SENTENCE=[('as', 'IN'), ('i', 'PRP'), ('look', 'VBP'), ('back', 'RB'), ('and', 'CC'), ('i', 'PRP'), ('think', 'VBP'), ('of', 'IN'), ('major', 'JJ'), ('cases', 'NNS'), ('that', 'WDT'), ('have', 'VBP'), ('been', 'VBN'), ('brought', 'VBN'), ('in', 'IN'), ('the', 'DT'), ('past', 'NN'), (',', ','), ('there', 'EX'), (\"'s\", 'VBZ'), ('the', 'DT'), ('whitney', 'NNP'), ('case', 'NN'), (',', ','), ('against', 'IN'), ('the', 'DT'), ('president', 'NN'), ('of', 'IN'), ('the', 'DT'), ('stock', 'NN'), ('exchange', 'NN'), ('for', 'IN'), ('manipulation', 'NN'), (',', ','), ('a', 'DT'), ('very', 'RB'), ('important', 'JJ'), ('case', 'NN'), ('.', '.'), ('{', '('), ('in', 'IN'), ('that', 'DT'), ('case', 'NN'), (',', ','), ('former', 'JJ'), ('new', 'NNP'), ('york', 'NNP'), ('stock', 'NNP'), ('exchange', 'NNP'), ('president', 'NNP'), ('richard', 'NNP'), ('whitney', 'NNP'), ('pleaded', 'VBD'), ('guilty', 'JJ'), ('to', 'TO'), ('two', 'CD'), ('counts', 'NNS'), ('of', 'IN'), ('grand', 'JJ'), ('larceny', 'NN'), ('in', 'IN'), ('1938', 'CD'), (',', ','), ('leading', 'VBG'), ('to', 'TO'), ('highly', 'RB'), ('publicized', 'VBN'), ('hearings', 'NNS'), ('on', 'IN'), ('what', 'WP'), ('william', 'NNP'), ('o', 'NNP'), ('.', '.'), ('douglas', 'NNP'), (',', ','), ('then', 'RB'), ('the', 'DT'), ('sec', 'NNP'), ('chief', 'JJ'), (',', ','), ('called', 'VBN'), ('\"', '\"'), ('the', 'DT'), ('whole', 'JJ'), ('anatomy', 'NN'), ('of', 'IN'), ('wall', 'NNP'), ('street', 'NNP'), ('chicanery', 'NN'), ('and', 'CC'), ('corruption', 'NN'), ('.', '.'), ('\"', '\"'), ('}', ')'), ('i', 'PRP'), ('think', 'VBP'), ('this', 'DT'), ('line', 'NN'), ('of', 'IN'), ('cases', 'NNS'), ('will', 'MD'), ('be', 'VB'), ('remembered', 'VBN'), ('as', 'IN'), ('equally', 'RB'), ('important', 'JJ'), ('for', 'IN'), ('their', 'PRP$'), ('time', 'NN'), ('.', '.')]\n",
      "CORRECT=product GUESS=text SENTENCE=[('current', 'JJ'), ('sales', 'NNS'), (':', ':'), ('1', 'CD'), (',', ','), ('000', 'CD'), ('meals', 'NNS'), ('a', 'DT'), ('month', 'NN'), ('.', '.'), ('two', 'CD'), ('minneapolis-area', 'NNP'), ('hospitals', 'NNS'), ('plan', 'VBP'), ('national', 'JJ'), ('distribution', 'NN'), ('this', 'DT'), ('year', 'NN'), ('of', 'IN'), ('their', 'PRP$'), ('nutritious', 'JJ'), ('cuisine', 'NNP'), ('line', 'NN'), (',', ','), ('made', 'VBN'), ('by', 'IN'), ('a', 'DT'), ('local', 'JJ'), ('food', 'NN'), ('processor', 'NN'), ('.', '.'), ('american', 'NNP'), ('hospital', 'NNP'), ('supply', 'NNP'), ('corp', 'NNP'), ('.', '.'), ('plans', 'VBZ'), ('a', 'DT'), ('line', 'NN'), ('of', 'IN'), ('special-diet', 'JJ'), ('meals', 'NNS'), ('to', 'TO'), ('help', 'VB'), ('increase', 'VB'), ('hospital', 'NN'), ('food-service', 'NN'), ('revenues', 'NNS'), ('.', '.')]\n",
      "CORRECT=product GUESS=division SENTENCE=[('for', 'IN'), ('example', 'NN'), (',', ','), ('although', 'IN'), ('hasbro', 'NNP'), (',', ','), ('the', 'DT'), ('biggest', 'JJS'), ('toy', 'NN'), ('maker', 'NN'), (',', ','), ('also', 'RB'), ('markets', 'VBZ'), ('board', 'NN'), ('games', 'NNS'), ('and', 'CC'), ('other', 'JJ'), ('\"', '\"'), ('gender-neutral', 'JJ'), ('\"', '\"'), ('items', 'NNS'), (',', ','), ('it', 'PRP'), ('organizes', 'VBZ'), ('its', 'PRP$'), ('biggest', 'JJS'), ('sellers', 'NNS'), ('strictly', 'RB'), ('along', 'IN'), ('sex-role', 'JJ'), ('lines', 'NNS'), ('.', '.'), ('its', 'PRP$'), ('wholesale', 'JJ'), ('catalog', 'NN'), ('features', 'VBZ'), ('a', 'DT'), ('girls', 'NNP'), ('toys', 'NNPS'), ('line', 'NN'), ('that', 'WDT'), ('includes', 'VBZ'), ('real', 'NNP'), ('baby', 'NNP'), ('and', 'CC'), ('get', 'VB'), ('in', 'IN'), ('shape', 'NNP'), (',', ','), ('girl', 'NNP'), ('!', '.'), ('exercise', 'NN'), ('kits', 'NNS'), ('.', '.'), ('the', 'DT'), ('boys', 'NNPS'), ('toys', 'NNPS'), ('line', 'NN'), ('includes', 'VBZ'), ('transformers', 'NNPS'), ('and', 'CC'), ('inhumanoids', 'NNS'), ('--', ':'), ('small', 'JJ'), (',', ','), ('hard-plastic', 'JJ'), ('characters', 'NNS'), ('that', 'IN'), ('in', 'IN'), ('a', 'DT'), ('dollhouse', 'NN'), ('might', 'MD'), ('be', 'VB'), ('considered', 'VBN'), ('dolls', 'NNS'), ('but', 'CC'), ('in', 'IN'), ('an', 'DT'), ('imaginary', 'JJ'), ('war', 'NN'), ('zone', 'NN'), ('are', 'VBP'), ('known', 'VBN'), ('as', 'IN'), ('\"', '\"'), ('action', 'NN'), ('figures', 'NNS'), ('.', '.'), ('\"', '\"')]\n",
      "CORRECT=text GUESS=product SENTENCE=[('he', 'PRP'), ('has', 'VBZ'), ('performed', 'VBN'), ('at', 'IN'), ('the', 'DT'), ('universities', 'NNS'), ('of', 'IN'), ('arkansas', 'NNP'), (',', ','), ('colorado', 'NNP'), ('and', 'CC'), ('massachusetts', 'NNP'), ('and', 'CC'), ('at', 'IN'), ('tulane', 'NNP'), ('university', 'NNP'), (',', ','), ('among', 'IN'), ('other', 'JJ'), ('places', 'NNS'), ('.', '.'), ('his', 'PRP$'), ('wife', 'NN'), ('of', 'IN'), ('47', 'CD'), ('years', 'NNS'), (',', ','), ('esther', 'NNP'), (',', ','), ('says', 'VBZ'), ('that', 'IN'), ('mr', 'NNP'), ('.', '.'), ('powelson', 'NNP'), ('is', 'VBZ'), ('constantly', 'RB'), ('mastering', 'VBG'), ('new', 'JJ'), ('lines', 'NNS'), ('.', '.')]\n",
      "CORRECT=product GUESS=text SENTENCE=[('if', 'IN'), ('the', 'DT'), ('world-market', 'JJ'), ('price', 'NN'), ('falls', 'VBZ'), ('below', 'IN'), ('that', 'DT'), ('level', 'NN'), ('(', '('), ('it', 'PRP'), ('is', 'VBZ'), ('now', 'RB'), ('seven', 'CD'), ('cents', 'NNS'), (')', 'SYM'), (',', ','), ('quotas', 'NNS'), ('for', 'IN'), ('imported', 'VBN'), ('sugar', 'NN'), ('are', 'VBP'), ('reduced', 'VBN'), ('until', 'IN'), ('domestic', 'JJ'), ('prices', 'NNS'), ('reach', 'VBP'), ('18', 'CD'), ('cents', 'NNS'), ('a', 'DT'), ('pound', 'NN'), ('.', '.'), ('this', 'DT'), ('tactic', 'NN'), ('means', 'VBZ'), ('there', 'EX'), ('is', 'VBZ'), ('no', 'DT'), ('line', 'NN'), ('item', 'NN'), ('in', 'IN'), ('the', 'DT'), ('budget', 'NN'), ('labeled', 'VBN'), ('\"', '\"'), ('sugar', 'NNP'), ('giveaway', 'NNP'), (',', ','), ('\"', '\"'), ('but', 'CC'), ('that', 'IN'), ('the', 'DT'), ('average', 'JJ'), ('family', 'NN'), ('of', 'IN'), ('four', 'CD'), ('must', 'MD'), ('spend', 'VB'), ('an', 'DT'), ('extra', 'JJ'), ('$', '$'), ('100', 'CD'), ('a', 'DT'), ('year', 'NN'), ('in', 'IN'), ('higher', 'JJR'), ('prices', 'NNS'), ('for', 'IN'), ('such', 'JJ'), ('staples', 'NNS'), ('as', 'IN'), ('sugar', 'NN'), (',', ','), ('peanut', 'NN'), ('butter', 'NN'), (',', ','), ('ketchup', 'NN'), (',', ','), ('salad', 'NN'), ('dressing', 'NN'), ('and', 'CC'), ('cereal', 'NN'), ('.', '.')]\n"
     ]
    },
    {
     "data": {
      "image/png": "[encoded data removed]",
      "text/plain": [
       "<matplotlib.figure.Figure at 0x166b3ed0>"
      ]
     },
     "metadata": {},
     "output_type": "display_data"
    }
   ],
   "source": [
    "classifier, cr, gold, predicted, test  = wsd_classifier(NaiveBayesClassifier.train, 'line.pos', \\\n",
    "                                                        feature_extractor_dist2, dist = 10)"
   ]
  }
 ],
 "metadata": {
  "anaconda-cloud": {},
  "kernelspec": {
   "display_name": "Python 3",
   "language": "python",
   "name": "python3"
  },
  "language_info": {
   "codemirror_mode": {
    "name": "ipython",
    "version": 3
   },
   "file_extension": ".py",
   "mimetype": "text/x-python",
   "name": "python",
   "nbconvert_exporter": "python",
   "pygments_lexer": "ipython3",
   "version": "3.6.2"
  }
 },
 "nbformat": 4,
 "nbformat_minor": 2
}
