{
 "cells": [
  {
   "cell_type": "markdown",
   "metadata": {},
   "source": [
    "\n",
    "## DATA620 - Assignment 2: \"Hello, graph world\"\n",
    "Keith Folsom\n",
    "September 10, 2017"
   ]
  },
  {
   "cell_type": "code",
   "execution_count": null,
   "metadata": {
    "collapsed": true
   },
   "outputs": [],
   "source": [
    "In this assignment, you're asked to create the nodes and edges for a basic graph, such as the Krackhardt kite shown below. \n",
    "\n",
    "![Krackhardt Kite](https://github.com/kfolsom98/DATA620/blob/master/Assignment2/Krackhardt_kite.PNG)"
   ]
  },
  {
   "cell_type": "code",
   "execution_count": null,
   "metadata": {
    "collapsed": false
   },
   "outputs": [],
   "source": [
    "#import the networkx package\n",
    "import networkx as nx"
   ]
  },
  {
   "cell_type": "code",
   "execution_count": null,
   "metadata": {
    "collapsed": true
   },
   "outputs": [],
   "source": [
    "%matplotlib inline\n",
    "import matplotlib.pyplot as plt"
   ]
  },
  {
   "cell_type": "markdown",
   "metadata": {},
   "source": [
    "## Approach 1"
   ]
  },
  {
   "cell_type": "code",
   "execution_count": null,
   "metadata": {
    "collapsed": false
   },
   "outputs": [],
   "source": [
    "G=nx.Graph()\n",
    "\n",
    "# create Krackhardt kite graph by explicity creating the nodes from the relationships\n",
    "\n",
    "G.add_edges_from(\n",
    "    [('Andre', 'Beverly'), ('Andre', 'Carol'), ('Andre', 'Diane'), ('Andre', 'Fernando'), \n",
    "     ('Beverly', 'Andre'), ('Beverly', 'Diane'), ('Beverly', 'Ed'), ('Beverly', 'Garth'), \n",
    "     ('Carol', 'Andre'), ('Carol', 'Diane'), ('Carol', 'Fernando'),\n",
    "     ('Fernando', 'Garth'), ('Fernando', 'Diane'), ('Fernando', 'Carol'),('Fernando', 'Heather'),\n",
    "     ('Garth', 'Ed'), ('Garth', 'Diane'), ('Garth', 'Fernando'), ('Garth', 'Heather'),\n",
    "     ('Ed', 'Beverly'), ('Ed', 'Diane'), ('Ed', 'Garth'),\n",
    "     ('Ike', 'Heather'), ('Ike', 'Jane'),  \n",
    "     ('Jane', 'Ike')\n",
    "    ])\n",
    "\n",
    "\n",
    "# Set node positions to match the Krackhardt kite graph structure\n",
    "# Start with the node for Diane at (0, 0) and adjust the remaining nodes to create the depicted structure\n",
    "\n",
    "position_dict ={'Andre':(-4, 1),\n",
    "                'Beverly':(-4, -1),\n",
    "                'Carol':(0, 2),\n",
    "                'Diane':(0, 0),\n",
    "                'Ed':(0, -2),\n",
    "                'Ike':(12, 0),\n",
    "                'Garth':(4, -1),\n",
    "                'Jane':(16, 0),\n",
    "                'Fernando':(4, 1),\n",
    "                'Heather':(8, 0)}\n",
    "\n",
    "# draw the graph\n",
    "nx.draw(G, position_dict, node_color='#A0CBE2',edge_color=\"purple\",width=4,edge_cmap=plt.cm.Blues, node_size=1500, with_labels=True)\n",
    "\n",
    "plt.show()"
   ]
  },
  {
   "cell_type": "markdown",
   "metadata": {},
   "source": [
    "## Approach 2"
   ]
  },
  {
   "cell_type": "code",
   "execution_count": null,
   "metadata": {
    "collapsed": false
   },
   "outputs": [],
   "source": [
    "# create a krackhardt kite graph generator from the networkx package\n",
    "G=nx.krackhardt_kite_graph(G)\n",
    "\n",
    "#The traditional labeling is:\n",
    "# Andre=1, Beverly=2, Carol=3, Diane=4,\n",
    "# Ed=5, Fernando=6, Garth=7, Heather=8, Ike=9, Jane=10.\n",
    "\n",
    "#G.nodes()\n",
    "\n",
    "H = nx.relabel_nodes(G, {0: 'Andre', 1: 'Beverly',  2: 'Carol', 3: 'Diane', 4: 'Ed',\n",
    "                         5: 'Fernando',  6: 'Garth', 7: 'Heather', 8: 'Ike', 9: 'Jane'}, copy=False)\n",
    "\n",
    "nx.draw(G, position_dict, node_color='#A0CBE2',edge_color=\"purple\",width=4,edge_cmap=plt.cm.Blues, node_size=1500, with_labels=True)\n",
    "\n",
    "plt.show()\n"
   ]
  }
 ],
 "metadata": {
  "anaconda-cloud": {},
  "kernelspec": {
   "display_name": "Python [Root]",
   "language": "python",
   "name": "Python [Root]"
  },
  "language_info": {
   "codemirror_mode": {
    "name": "ipython",
    "version": 2
   },
   "file_extension": ".py",
   "mimetype": "text/x-python",
   "name": "python",
   "nbconvert_exporter": "python",
   "pygments_lexer": "ipython2",
   "version": "2.7.12"
  }
 },
 "nbformat": 4,
 "nbformat_minor": 2
}
