{
 "cells": [
  {
   "cell_type": "markdown",
   "metadata": {},
   "source": [
    "## DATA620 - Assignment 3: Graph Visualization\n",
    "\n",
    "Keith Folsom  \n",
    "September 17, 2017\n",
    "\n",
    "\n",
    "This week's assignment is to:  \n",
    " \n",
    "1. Load a graph database of your choosing from a text file or other source. If you take a large network dataset from the web (such as from https://snap.stanford.edu/data/), please feel free at this point to load just a small subset of the nodes and edges.  \n",
    "\n",
    "2. Create basic analysis on the graph, including the graph’s diameter, and at least one other metric of your choosing. You may either code the functions by hand (to build your intuition and insight), or use functions in an existing package.  \n",
    "\n",
    "3. Use a visualization tool of your choice (Neo4j, Gephi, etc.) to display information.  \n",
    "\n",
    "4. Please record a short video (~ 5 minutes), and submit a link to the video as part of your homework submission.  "
   ]
  },
  {
   "cell_type": "markdown",
   "metadata": {},
   "source": [
    "In previous coursework, I have created citation networks of authors found with published work on PubMed (https://www.ncbi.nlm.nih.gov/pubmed/).\n",
    "\n",
    "For this week's assignmment, I'm going to use network of authors published in the research area of melanoma.  \n",
    "This network has been created by determining which authors are citing other authors in their research and publications.\n",
    "\n",
    "Since this network is fairly large, I've taken a subset of the network but further refine the final network used for metrics and visualization in the steps below."
   ]
  },
  {
   "cell_type": "markdown",
   "metadata": {},
   "source": [
    "### Video Link\n",
    "\n",
    "<video controls src=\"https://drive.google.com/open?id=0B7Ju9A4G2Qo2anpXcXdmVWoySlU\"/> "
   ]
  },
  {
   "cell_type": "code",
   "execution_count": 3,
   "metadata": {
    "collapsed": true
   },
   "outputs": [],
   "source": [
    "# load the necessary packages - networkx, pandas, and matplotlib\n",
    "\n",
    "import networkx as nx\n",
    "import pandas as pd\n",
    "\n",
    "%matplotlib inline\n",
    "import matplotlib.pyplot as plt"
   ]
  },
  {
   "cell_type": "code",
   "execution_count": 47,
   "metadata": {
    "collapsed": false
   },
   "outputs": [
    {
     "data": {
      "text/html": [
       "<div>\n",
       "<table border=\"1\" class=\"dataframe\">\n",
       "  <thead>\n",
       "    <tr style=\"text-align: right;\">\n",
       "      <th></th>\n",
       "      <th>FromAuthor</th>\n",
       "      <th>ToAuthor</th>\n",
       "    </tr>\n",
       "  </thead>\n",
       "  <tbody>\n",
       "    <tr>\n",
       "      <th>0</th>\n",
       "      <td>E Dean</td>\n",
       "      <td>V Le Coz</td>\n",
       "    </tr>\n",
       "    <tr>\n",
       "      <th>1</th>\n",
       "      <td>J Baird</td>\n",
       "      <td>I Mauldin</td>\n",
       "    </tr>\n",
       "    <tr>\n",
       "      <th>2</th>\n",
       "      <td>L Khoja</td>\n",
       "      <td>M Rapanotti</td>\n",
       "    </tr>\n",
       "    <tr>\n",
       "      <th>3</th>\n",
       "      <td>N Kenawy</td>\n",
       "      <td>C Pandiani</td>\n",
       "    </tr>\n",
       "    <tr>\n",
       "      <th>4</th>\n",
       "      <td>D Sebaratnam</td>\n",
       "      <td>J Maj</td>\n",
       "    </tr>\n",
       "    <tr>\n",
       "      <th>5</th>\n",
       "      <td>S Suzuki</td>\n",
       "      <td>F Stagnitti</td>\n",
       "    </tr>\n",
       "    <tr>\n",
       "      <th>6</th>\n",
       "      <td>J Dobos</td>\n",
       "      <td>J Liu</td>\n",
       "    </tr>\n",
       "    <tr>\n",
       "      <th>7</th>\n",
       "      <td>P Triozzi</td>\n",
       "      <td>S Achberger</td>\n",
       "    </tr>\n",
       "    <tr>\n",
       "      <th>8</th>\n",
       "      <td>F Ludwig</td>\n",
       "      <td>V Hofschr”er</td>\n",
       "    </tr>\n",
       "    <tr>\n",
       "      <th>9</th>\n",
       "      <td>J Curry</td>\n",
       "      <td>M Jurkowska</td>\n",
       "    </tr>\n",
       "  </tbody>\n",
       "</table>\n",
       "</div>"
      ],
      "text/plain": [
       "     FromAuthor      ToAuthor\n",
       "0        E Dean      V Le Coz\n",
       "1       J Baird     I Mauldin\n",
       "2       L Khoja   M Rapanotti\n",
       "3      N Kenawy    C Pandiani\n",
       "4  D Sebaratnam         J Maj\n",
       "5      S Suzuki   F Stagnitti\n",
       "6       J Dobos         J Liu\n",
       "7     P Triozzi   S Achberger\n",
       "8      F Ludwig  V Hofschr”er\n",
       "9       J Curry   M Jurkowska"
      ]
     },
     "execution_count": 47,
     "metadata": {},
     "output_type": "execute_result"
    }
   ],
   "source": [
    "# Reading the citation network data into a pandas data frame\n",
    "\n",
    "file = \"https://raw.githubusercontent.com/kfolsom98/DATA620/master/Assignment3/MM_Network_Subset.csv\"\n",
    "data = pd.read_csv(file,  names=['FromAuthor', 'ToAuthor'], header=0)\n",
    "\n",
    "data.head(10)"
   ]
  },
  {
   "cell_type": "code",
   "execution_count": 12,
   "metadata": {
    "collapsed": true
   },
   "outputs": [],
   "source": [
    "# Create the network from the edge list stored in the pandas dataframe\n",
    "G = nx.from_pandas_dataframe(data, 'FromAuthor', 'ToAuthor')"
   ]
  },
  {
   "cell_type": "markdown",
   "metadata": {},
   "source": [
    "Let's take a look at the citation network:"
   ]
  },
  {
   "cell_type": "code",
   "execution_count": 13,
   "metadata": {
    "collapsed": false
   },
   "outputs": [
    {
     "data": {
      "image/png": "[encoded data removed]",
      "text/plain": [
       "<matplotlib.figure.Figure at 0x950b1d0>"
      ]
     },
     "metadata": {},
     "output_type": "display_data"
    }
   ],
   "source": [
    "%matplotlib inline\n",
    "\n",
    "# draw the graph\n",
    "nx.draw(G)"
   ]
  },
  {
   "cell_type": "markdown",
   "metadata": {},
   "source": [
    "The resulting network plot shows an inner circle of authors surrounded by an outer ring of unconnected author networks (subgraphs).  Let's get some basic information about the network."
   ]
  },
  {
   "cell_type": "code",
   "execution_count": 17,
   "metadata": {
    "collapsed": false
   },
   "outputs": [
    {
     "name": "stdout",
     "output_type": "stream",
     "text": [
      "Name: \n",
      "Type: Graph\n",
      "Number of nodes: 884\n",
      "Number of edges: 962\n",
      "Average degree:   2.1765\n"
     ]
    }
   ],
   "source": [
    "print(nx.info(G))"
   ]
  },
  {
   "cell_type": "markdown",
   "metadata": {
    "collapsed": false
   },
   "source": [
    "### What's the diameter of the network?  Diameter is the longest of the shortest paths between nodes.  This measure gives a sense of a network's size."
   ]
  },
  {
   "cell_type": "code",
   "execution_count": 18,
   "metadata": {
    "collapsed": false
   },
   "outputs": [
    {
     "ename": "NetworkXError",
     "evalue": "Graph not connected: infinite path length",
     "output_type": "error",
     "traceback": [
      "\u001b[1;31m---------------------------------------------------------------------------\u001b[0m",
      "\u001b[1;31mNetworkXError\u001b[0m                             Traceback (most recent call last)",
      "\u001b[1;32m<ipython-input-18-5510f600fda5>\u001b[0m in \u001b[0;36m<module>\u001b[1;34m()\u001b[0m\n\u001b[0;32m      1\u001b[0m \u001b[1;31m# Calculating the diameter of the graph using the built in NetworkX function.\u001b[0m\u001b[1;33m\u001b[0m\u001b[1;33m\u001b[0m\u001b[0m\n\u001b[1;32m----> 2\u001b[1;33m \u001b[0mnx\u001b[0m\u001b[1;33m.\u001b[0m\u001b[0mdiameter\u001b[0m\u001b[1;33m(\u001b[0m\u001b[0mG\u001b[0m\u001b[1;33m)\u001b[0m\u001b[1;33m\u001b[0m\u001b[0m\n\u001b[0m",
      "\u001b[1;32mC:\\Users\\keith\\Anaconda2\\lib\\site-packages\\networkx\\algorithms\\distance_measures.pyc\u001b[0m in \u001b[0;36mdiameter\u001b[1;34m(G, e)\u001b[0m\n\u001b[0;32m     94\u001b[0m     \"\"\"\n\u001b[0;32m     95\u001b[0m     \u001b[1;32mif\u001b[0m \u001b[0me\u001b[0m \u001b[1;32mis\u001b[0m \u001b[0mNone\u001b[0m\u001b[1;33m:\u001b[0m\u001b[1;33m\u001b[0m\u001b[0m\n\u001b[1;32m---> 96\u001b[1;33m         \u001b[0me\u001b[0m\u001b[1;33m=\u001b[0m\u001b[0meccentricity\u001b[0m\u001b[1;33m(\u001b[0m\u001b[0mG\u001b[0m\u001b[1;33m)\u001b[0m\u001b[1;33m\u001b[0m\u001b[0m\n\u001b[0m\u001b[0;32m     97\u001b[0m     \u001b[1;32mreturn\u001b[0m \u001b[0mmax\u001b[0m\u001b[1;33m(\u001b[0m\u001b[0me\u001b[0m\u001b[1;33m.\u001b[0m\u001b[0mvalues\u001b[0m\u001b[1;33m(\u001b[0m\u001b[1;33m)\u001b[0m\u001b[1;33m)\u001b[0m\u001b[1;33m\u001b[0m\u001b[0m\n\u001b[0;32m     98\u001b[0m \u001b[1;33m\u001b[0m\u001b[0m\n",
      "\u001b[1;32mC:\\Users\\keith\\Anaconda2\\lib\\site-packages\\networkx\\algorithms\\distance_measures.pyc\u001b[0m in \u001b[0;36meccentricity\u001b[1;34m(G, v, sp)\u001b[0m\n\u001b[0;32m     61\u001b[0m         \u001b[1;32mif\u001b[0m \u001b[0mL\u001b[0m \u001b[1;33m!=\u001b[0m \u001b[0morder\u001b[0m\u001b[1;33m:\u001b[0m\u001b[1;33m\u001b[0m\u001b[0m\n\u001b[0;32m     62\u001b[0m             \u001b[0mmsg\u001b[0m \u001b[1;33m=\u001b[0m \u001b[1;34m\"Graph not connected: infinite path length\"\u001b[0m\u001b[1;33m\u001b[0m\u001b[0m\n\u001b[1;32m---> 63\u001b[1;33m             \u001b[1;32mraise\u001b[0m \u001b[0mnetworkx\u001b[0m\u001b[1;33m.\u001b[0m\u001b[0mNetworkXError\u001b[0m\u001b[1;33m(\u001b[0m\u001b[0mmsg\u001b[0m\u001b[1;33m)\u001b[0m\u001b[1;33m\u001b[0m\u001b[0m\n\u001b[0m\u001b[0;32m     64\u001b[0m \u001b[1;33m\u001b[0m\u001b[0m\n\u001b[0;32m     65\u001b[0m         \u001b[0me\u001b[0m\u001b[1;33m[\u001b[0m\u001b[0mn\u001b[0m\u001b[1;33m]\u001b[0m\u001b[1;33m=\u001b[0m\u001b[0mmax\u001b[0m\u001b[1;33m(\u001b[0m\u001b[0mlength\u001b[0m\u001b[1;33m.\u001b[0m\u001b[0mvalues\u001b[0m\u001b[1;33m(\u001b[0m\u001b[1;33m)\u001b[0m\u001b[1;33m)\u001b[0m\u001b[1;33m\u001b[0m\u001b[0m\n",
      "\u001b[1;31mNetworkXError\u001b[0m: Graph not connected: infinite path length"
     ]
    }
   ],
   "source": [
    "# Calculate the diameter using the built in network function diameter()\n",
    "nx.diameter(G)"
   ]
  },
  {
   "cell_type": "markdown",
   "metadata": {},
   "source": [
    "Attempting to calculate the diamater of the network throws an error consistent with what is found in network plot above.  In the melanoma citation network, we see one large networks surrounded by smaller unconnected networks or components. \n",
    "\n",
    "This is confirmed by using the is_connected() function below on the network."
   ]
  },
  {
   "cell_type": "code",
   "execution_count": 48,
   "metadata": {
    "collapsed": false
   },
   "outputs": [
    {
     "name": "stdout",
     "output_type": "stream",
     "text": [
      "False\n"
     ]
    }
   ],
   "source": [
    "print(nx.is_connected(G))"
   ]
  },
  {
   "cell_type": "markdown",
   "metadata": {},
   "source": [
    "### Let's take a look at the subgraphs and identify the largest subgraph to keep for analysis."
   ]
  },
  {
   "cell_type": "code",
   "execution_count": 50,
   "metadata": {
    "collapsed": false
   },
   "outputs": [
    {
     "name": "stdout",
     "output_type": "stream",
     "text": [
      "Index 0:  Nodes = 609; Edges = 789; Diameter = 18 \n",
      "Index 1:  Nodes = 7; Edges = 6; Diameter = 4 \n",
      "Index 2:  Nodes = 7; Edges = 6; Diameter = 4 \n",
      "Index 3:  Nodes = 6; Edges = 6; Diameter = 3 \n",
      "Index 4:  Nodes = 5; Edges = 4; Diameter = 4 \n",
      "Index 5:  Nodes = 5; Edges = 5; Diameter = 3 \n",
      "Index 6:  Nodes = 5; Edges = 4; Diameter = 3 \n",
      "Index 7:  Nodes = 5; Edges = 4; Diameter = 4 \n",
      "Index 8:  Nodes = 4; Edges = 4; Diameter = 3 \n",
      "Index 9:  Nodes = 4; Edges = 3; Diameter = 2 \n",
      "Index 10:  Nodes = 4; Edges = 3; Diameter = 2 \n",
      "Index 11:  Nodes = 4; Edges = 4; Diameter = 3 \n",
      "Index 12:  Nodes = 3; Edges = 2; Diameter = 2 \n",
      "Index 13:  Nodes = 3; Edges = 2; Diameter = 2 \n",
      "Index 14:  Nodes = 3; Edges = 2; Diameter = 2 \n",
      "Index 15:  Nodes = 3; Edges = 2; Diameter = 2 \n",
      "Index 16:  Nodes = 3; Edges = 2; Diameter = 2 \n",
      "Index 17:  Nodes = 3; Edges = 2; Diameter = 2 \n",
      "Index 18:  Nodes = 3; Edges = 2; Diameter = 2 \n",
      "Index 19:  Nodes = 3; Edges = 2; Diameter = 2 \n",
      "Index 20:  Nodes = 3; Edges = 2; Diameter = 2 \n",
      "Index 21:  Nodes = 3; Edges = 2; Diameter = 2 \n",
      "Index 22:  Nodes = 3; Edges = 2; Diameter = 2 \n",
      "Index 23:  Nodes = 3; Edges = 2; Diameter = 2 \n",
      "Index 24:  Nodes = 3; Edges = 2; Diameter = 2 \n",
      "Index 25:  Nodes = 3; Edges = 2; Diameter = 2 \n",
      "Index 26:  Nodes = 3; Edges = 2; Diameter = 2 \n",
      "Index 27:  Nodes = 3; Edges = 2; Diameter = 2 \n",
      "Index 28:  Nodes = 3; Edges = 2; Diameter = 2 \n",
      "Index 29:  Nodes = 3; Edges = 2; Diameter = 2 \n",
      "Index 30:  Nodes = 3; Edges = 2; Diameter = 2 \n",
      "Index 31:  Nodes = 3; Edges = 2; Diameter = 2 \n",
      "Index 32:  Nodes = 3; Edges = 2; Diameter = 2 \n",
      "Index 33:  Nodes = 3; Edges = 2; Diameter = 2 \n",
      "Index 34:  Nodes = 2; Edges = 1; Diameter = 1 \n",
      "Index 35:  Nodes = 2; Edges = 1; Diameter = 1 \n",
      "Index 36:  Nodes = 2; Edges = 1; Diameter = 1 \n",
      "Index 37:  Nodes = 2; Edges = 1; Diameter = 1 \n",
      "Index 38:  Nodes = 2; Edges = 1; Diameter = 1 \n",
      "Index 39:  Nodes = 2; Edges = 1; Diameter = 1 \n",
      "Index 40:  Nodes = 2; Edges = 1; Diameter = 1 \n",
      "Index 41:  Nodes = 2; Edges = 1; Diameter = 1 \n",
      "Index 42:  Nodes = 2; Edges = 1; Diameter = 1 \n",
      "Index 43:  Nodes = 2; Edges = 1; Diameter = 1 \n",
      "Index 44:  Nodes = 2; Edges = 1; Diameter = 1 \n",
      "Index 45:  Nodes = 2; Edges = 1; Diameter = 1 \n",
      "Index 46:  Nodes = 2; Edges = 1; Diameter = 1 \n",
      "Index 47:  Nodes = 2; Edges = 1; Diameter = 1 \n",
      "Index 48:  Nodes = 2; Edges = 1; Diameter = 1 \n",
      "Index 49:  Nodes = 2; Edges = 1; Diameter = 1 \n",
      "Index 50:  Nodes = 2; Edges = 1; Diameter = 1 \n",
      "Index 51:  Nodes = 2; Edges = 2; Diameter = 1 \n",
      "Index 52:  Nodes = 2; Edges = 1; Diameter = 1 \n",
      "Index 53:  Nodes = 2; Edges = 1; Diameter = 1 \n",
      "Index 54:  Nodes = 2; Edges = 1; Diameter = 1 \n",
      "Index 55:  Nodes = 2; Edges = 1; Diameter = 1 \n",
      "Index 56:  Nodes = 2; Edges = 1; Diameter = 1 \n",
      "Index 57:  Nodes = 2; Edges = 1; Diameter = 1 \n",
      "Index 58:  Nodes = 2; Edges = 1; Diameter = 1 \n",
      "Index 59:  Nodes = 2; Edges = 1; Diameter = 1 \n",
      "Index 60:  Nodes = 2; Edges = 1; Diameter = 1 \n",
      "Index 61:  Nodes = 2; Edges = 1; Diameter = 1 \n",
      "Index 62:  Nodes = 2; Edges = 1; Diameter = 1 \n",
      "Index 63:  Nodes = 2; Edges = 1; Diameter = 1 \n",
      "Index 64:  Nodes = 2; Edges = 1; Diameter = 1 \n",
      "Index 65:  Nodes = 2; Edges = 1; Diameter = 1 \n",
      "Index 66:  Nodes = 2; Edges = 1; Diameter = 1 \n",
      "Index 67:  Nodes = 2; Edges = 1; Diameter = 1 \n",
      "Index 68:  Nodes = 2; Edges = 1; Diameter = 1 \n",
      "Index 69:  Nodes = 2; Edges = 1; Diameter = 1 \n",
      "Index 70:  Nodes = 2; Edges = 1; Diameter = 1 \n",
      "Index 71:  Nodes = 2; Edges = 1; Diameter = 1 \n",
      "Index 72:  Nodes = 2; Edges = 1; Diameter = 1 \n",
      "Index 73:  Nodes = 2; Edges = 1; Diameter = 1 \n",
      "Index 74:  Nodes = 2; Edges = 2; Diameter = 1 \n",
      "Index 75:  Nodes = 2; Edges = 1; Diameter = 1 \n",
      "Index 76:  Nodes = 2; Edges = 1; Diameter = 1 \n",
      "Index 77:  Nodes = 2; Edges = 1; Diameter = 1 \n",
      "Index 78:  Nodes = 2; Edges = 1; Diameter = 1 \n",
      "Index 79:  Nodes = 2; Edges = 1; Diameter = 1 \n",
      "Index 80:  Nodes = 2; Edges = 1; Diameter = 1 \n",
      "Index 81:  Nodes = 2; Edges = 1; Diameter = 1 \n",
      "Index 82:  Nodes = 2; Edges = 1; Diameter = 1 \n",
      "Index 83:  Nodes = 2; Edges = 1; Diameter = 1 \n",
      "Index 84:  Nodes = 2; Edges = 1; Diameter = 1 \n",
      "Index 85:  Nodes = 2; Edges = 1; Diameter = 1 \n",
      "Index 86:  Nodes = 2; Edges = 1; Diameter = 1 \n",
      "Index 87:  Nodes = 2; Edges = 1; Diameter = 1 \n",
      "Index 88:  Nodes = 2; Edges = 1; Diameter = 1 \n",
      "Index 89:  Nodes = 2; Edges = 1; Diameter = 1 \n",
      "Index 90:  Nodes = 2; Edges = 1; Diameter = 1 \n",
      "Index 91:  Nodes = 2; Edges = 1; Diameter = 1 \n",
      "Index 92:  Nodes = 2; Edges = 1; Diameter = 1 \n",
      "Index 93:  Nodes = 2; Edges = 1; Diameter = 1 \n",
      "Index 94:  Nodes = 2; Edges = 1; Diameter = 1 \n",
      "Index 95:  Nodes = 2; Edges = 1; Diameter = 1 \n",
      "Index 96:  Nodes = 2; Edges = 1; Diameter = 1 \n",
      "Index 97:  Nodes = 2; Edges = 1; Diameter = 1 \n",
      "Index 98:  Nodes = 2; Edges = 2; Diameter = 1 \n",
      "Index 99:  Nodes = 2; Edges = 1; Diameter = 1 \n",
      "Index 100:  Nodes = 2; Edges = 1; Diameter = 1 \n",
      "Index 101:  Nodes = 2; Edges = 1; Diameter = 1 \n",
      "Index 102:  Nodes = 2; Edges = 1; Diameter = 1 \n",
      "Index 103:  Nodes = 2; Edges = 1; Diameter = 1 \n",
      "Index 104:  Nodes = 2; Edges = 1; Diameter = 1 \n",
      "Index 105:  Nodes = 2; Edges = 1; Diameter = 1 \n",
      "Index 106:  Nodes = 2; Edges = 1; Diameter = 1 \n",
      "Index 107:  Nodes = 2; Edges = 1; Diameter = 1 \n",
      "Index 108:  Nodes = 2; Edges = 1; Diameter = 1 \n",
      "Index 109:  Nodes = 2; Edges = 1; Diameter = 1 \n",
      "Index 110:  Nodes = 1; Edges = 1; Diameter = 0 \n"
     ]
    }
   ],
   "source": [
    "graphs = sorted(list(nx.connected_component_subgraphs(G)), key = len, reverse=True)\n",
    "\n",
    "for x in range(len(graphs)):\n",
    "    \n",
    "        print(\"Index {}:  Nodes = {}; Edges = {}; Diameter = {} \".format(x, \n",
    "                                                                        len(nx.nodes(graphs[x])), \n",
    "                                                                        len(nx.edges(graphs[x])),\n",
    "                                                                        nx.diameter(graphs[x])))"
   ]
  },
  {
   "cell_type": "markdown",
   "metadata": {},
   "source": [
    "We see that there are 111 subgraphs with the subgraph at index 0 being the largest with 609 nodes.  We'll use this for further analysis."
   ]
  },
  {
   "cell_type": "code",
   "execution_count": 52,
   "metadata": {
    "collapsed": false
   },
   "outputs": [
    {
     "data": {
      "text/plain": [
       "18"
      ]
     },
     "execution_count": 52,
     "metadata": {},
     "output_type": "execute_result"
    }
   ],
   "source": [
    "subgraph = graphs[0]  # provide the index to select the graph component to retain.\n",
    "\n",
    "# alternate/simpler approach below found on:\n",
    "#  https://programminghistorian.org/lessons/exploring-and-analyzing-network-data-with-python\n",
    "\n",
    "# then use the max() command to find the largest one:\n",
    "#components = nx.connected_components(G)\n",
    "#largest_component = max(components, key=len)\n",
    "\n",
    "# Create a \"subgraph\" of just the largest component\n",
    "# Then calculate the diameter of the subgraph, just like you did with density.\n",
    "#\n",
    "\n",
    "#subgraph = G.subgraph(largest_component)\n",
    "#diameter = nx.diameter(subgraph)\n",
    "#print(\"Network diameter of largest component:\", diameter)"
   ]
  },
  {
   "cell_type": "markdown",
   "metadata": {},
   "source": [
    "### Visualize the Graph "
   ]
  },
  {
   "cell_type": "code",
   "execution_count": 53,
   "metadata": {
    "collapsed": false
   },
   "outputs": [
    {
     "data": {
      "image/png": "[encoded data removed]",
      "text/plain": [
       "<matplotlib.figure.Figure at 0xb85d4a8>"
      ]
     },
     "metadata": {},
     "output_type": "display_data"
    }
   ],
   "source": [
    "nx.draw(subgraph)"
   ]
  },
  {
   "cell_type": "code",
   "execution_count": 23,
   "metadata": {
    "collapsed": false
   },
   "outputs": [
    {
     "name": "stdout",
     "output_type": "stream",
     "text": [
      "Name: \n",
      "Type: Graph\n",
      "Number of nodes: 609\n",
      "Number of edges: 789\n",
      "Average degree:   2.5911\n"
     ]
    }
   ],
   "source": [
    "print(nx.info(subgraph))"
   ]
  },
  {
   "cell_type": "markdown",
   "metadata": {},
   "source": [
    "### Calculate the diameter and the density of the network subgraph.\n",
    "\n",
    "* Density provides a sense of how closely knit a network is in terms of ratio of actual edges in the network to all possible edges."
   ]
  },
  {
   "cell_type": "code",
   "execution_count": 55,
   "metadata": {
    "collapsed": false
   },
   "outputs": [
    {
     "name": "stdout",
     "output_type": "stream",
     "text": [
      "Network Diameter = 18 :  Network density = 0.004261731916  \n"
     ]
    }
   ],
   "source": [
    "diameter = nx.diameter(subgraph)\n",
    "density = nx.density(subgraph)\n",
    "\n",
    "print(\"Network Diameter = {} :  Network density = {}  \".format(diameter, density))"
   ]
  },
  {
   "cell_type": "markdown",
   "metadata": {
    "collapsed": false
   },
   "source": [
    "### Export the citation network subgraph for visualization in Gephi"
   ]
  },
  {
   "cell_type": "code",
   "execution_count": 46,
   "metadata": {
    "collapsed": false
   },
   "outputs": [],
   "source": [
    "# Writing the graph as a GML file for use in Gephi\n",
    "nx.write_gml(subgraph, 'MM_network.gml')"
   ]
  },
  {
   "cell_type": "markdown",
   "metadata": {},
   "source": [
    "### Initial Gephi Output identifying the top authors in this subgraph"
   ]
  },
  {
   "cell_type": "markdown",
   "metadata": {
    "collapsed": false
   },
   "source": [
    "![Gephi](https://raw.githubusercontent.com/kfolsom98/DATA620/master/Assignment3/MM_Network_Subgraph.png)"
   ]
  }
 ],
 "metadata": {
  "anaconda-cloud": {},
  "kernelspec": {
   "display_name": "Python [Root]",
   "language": "python",
   "name": "Python [Root]"
  },
  "language_info": {
   "codemirror_mode": {
    "name": "ipython",
    "version": 2
   },
   "file_extension": ".py",
   "mimetype": "text/x-python",
   "name": "python",
   "nbconvert_exporter": "python",
   "pygments_lexer": "ipython2",
   "version": "2.7.12"
  }
 },
 "nbformat": 4,
 "nbformat_minor": 2
}
